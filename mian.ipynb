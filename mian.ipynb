{
 "cells": [
  {
   "metadata": {},
   "cell_type": "markdown",
   "source": "# Job Description (JD) Summarizer",
   "id": "48ebef71d7747c6c"
  },
  {
   "metadata": {},
   "cell_type": "markdown",
   "source": "## Install Required Libraries",
   "id": "c507460acd3c1cba"
  },
  {
   "cell_type": "code",
   "id": "initial_id",
   "metadata": {
    "collapsed": true,
    "ExecuteTime": {
     "end_time": "2025-01-30T23:54:12.692794Z",
     "start_time": "2025-01-30T23:53:52.012100Z"
    }
   },
   "source": [
    "!pip install nltk spacy sumy\n",
    "!python -m spacy download en_core_web_sm\n",
    "!pip uninstall -y spacy pydantic"
   ],
   "outputs": [
    {
     "name": "stdout",
     "output_type": "stream",
     "text": [
      "Requirement already satisfied: nltk in /Users/apple2015/.local/lib/python3.12/site-packages (3.9.1)\r\n",
      "Requirement already satisfied: spacy in /opt/anaconda3/lib/python3.12/site-packages (3.8.4)\r\n",
      "Requirement already satisfied: sumy in /opt/anaconda3/lib/python3.12/site-packages (0.11.0)\r\n",
      "Requirement already satisfied: click in /opt/anaconda3/lib/python3.12/site-packages (from nltk) (8.1.7)\r\n",
      "Requirement already satisfied: joblib in /Users/apple2015/.local/lib/python3.12/site-packages (from nltk) (1.1.1)\r\n",
      "Requirement already satisfied: regex>=2021.8.3 in /opt/anaconda3/lib/python3.12/site-packages (from nltk) (2023.10.3)\r\n",
      "Requirement already satisfied: tqdm in /opt/anaconda3/lib/python3.12/site-packages (from nltk) (4.66.4)\r\n",
      "Requirement already satisfied: spacy-legacy<3.1.0,>=3.0.11 in /opt/anaconda3/lib/python3.12/site-packages (from spacy) (3.0.12)\r\n",
      "Requirement already satisfied: spacy-loggers<2.0.0,>=1.0.0 in /opt/anaconda3/lib/python3.12/site-packages (from spacy) (1.0.4)\r\n",
      "Requirement already satisfied: murmurhash<1.1.0,>=0.28.0 in /opt/anaconda3/lib/python3.12/site-packages (from spacy) (1.0.7)\r\n",
      "Requirement already satisfied: cymem<2.1.0,>=2.0.2 in /opt/anaconda3/lib/python3.12/site-packages (from spacy) (2.0.6)\r\n",
      "Requirement already satisfied: preshed<3.1.0,>=3.0.2 in /opt/anaconda3/lib/python3.12/site-packages (from spacy) (3.0.6)\r\n",
      "Requirement already satisfied: thinc<8.4.0,>=8.3.4 in /opt/anaconda3/lib/python3.12/site-packages (from spacy) (8.3.4)\r\n",
      "Requirement already satisfied: wasabi<1.2.0,>=0.9.1 in /opt/anaconda3/lib/python3.12/site-packages (from spacy) (0.9.1)\r\n",
      "Requirement already satisfied: srsly<3.0.0,>=2.4.3 in /opt/anaconda3/lib/python3.12/site-packages (from spacy) (2.4.8)\r\n",
      "Requirement already satisfied: catalogue<2.1.0,>=2.0.6 in /opt/anaconda3/lib/python3.12/site-packages (from spacy) (2.0.10)\r\n",
      "Requirement already satisfied: weasel<0.5.0,>=0.1.0 in /opt/anaconda3/lib/python3.12/site-packages (from spacy) (0.3.4)\r\n",
      "Requirement already satisfied: typer<1.0.0,>=0.3.0 in /opt/anaconda3/lib/python3.12/site-packages (from spacy) (0.9.0)\r\n",
      "Requirement already satisfied: numpy>=1.19.0 in /opt/anaconda3/lib/python3.12/site-packages (from spacy) (1.26.4)\r\n",
      "Requirement already satisfied: requests<3.0.0,>=2.13.0 in /opt/anaconda3/lib/python3.12/site-packages (from spacy) (2.32.2)\r\n",
      "Requirement already satisfied: pydantic!=1.8,!=1.8.1,<3.0.0,>=1.7.4 in /opt/anaconda3/lib/python3.12/site-packages (from spacy) (1.10.13)\r\n",
      "Requirement already satisfied: jinja2 in /opt/anaconda3/lib/python3.12/site-packages (from spacy) (3.1.4)\r\n",
      "Requirement already satisfied: setuptools in /opt/anaconda3/lib/python3.12/site-packages (from spacy) (69.5.1)\r\n",
      "Requirement already satisfied: packaging>=20.0 in /opt/anaconda3/lib/python3.12/site-packages (from spacy) (23.2)\r\n",
      "Requirement already satisfied: langcodes<4.0.0,>=3.2.0 in /opt/anaconda3/lib/python3.12/site-packages (from spacy) (3.3.0)\r\n",
      "Requirement already satisfied: docopt<0.7,>=0.6.1 in /opt/anaconda3/lib/python3.12/site-packages (from sumy) (0.6.2)\r\n",
      "Requirement already satisfied: breadability>=0.1.20 in /opt/anaconda3/lib/python3.12/site-packages (from sumy) (0.1.20)\r\n",
      "Requirement already satisfied: pycountry>=18.2.23 in /opt/anaconda3/lib/python3.12/site-packages (from sumy) (24.6.1)\r\n",
      "Requirement already satisfied: chardet in /opt/anaconda3/lib/python3.12/site-packages (from breadability>=0.1.20->sumy) (4.0.0)\r\n",
      "Requirement already satisfied: lxml>=2.0 in /opt/anaconda3/lib/python3.12/site-packages (from breadability>=0.1.20->sumy) (5.2.1)\r\n",
      "Requirement already satisfied: typing-extensions>=4.2.0 in /opt/anaconda3/lib/python3.12/site-packages (from pydantic!=1.8,!=1.8.1,<3.0.0,>=1.7.4->spacy) (4.11.0)\r\n",
      "Requirement already satisfied: charset-normalizer<4,>=2 in /opt/anaconda3/lib/python3.12/site-packages (from requests<3.0.0,>=2.13.0->spacy) (2.0.4)\r\n",
      "Requirement already satisfied: idna<4,>=2.5 in /opt/anaconda3/lib/python3.12/site-packages (from requests<3.0.0,>=2.13.0->spacy) (3.7)\r\n",
      "Requirement already satisfied: urllib3<3,>=1.21.1 in /opt/anaconda3/lib/python3.12/site-packages (from requests<3.0.0,>=2.13.0->spacy) (2.2.2)\r\n",
      "Requirement already satisfied: certifi>=2017.4.17 in /opt/anaconda3/lib/python3.12/site-packages (from requests<3.0.0,>=2.13.0->spacy) (2024.8.30)\r\n",
      "Requirement already satisfied: blis<1.3.0,>=1.2.0 in /opt/anaconda3/lib/python3.12/site-packages (from thinc<8.4.0,>=8.3.4->spacy) (1.2.0)\r\n",
      "Requirement already satisfied: confection<1.0.0,>=0.0.1 in /opt/anaconda3/lib/python3.12/site-packages (from thinc<8.4.0,>=8.3.4->spacy) (0.1.4)\r\n",
      "Requirement already satisfied: cloudpathlib<0.17.0,>=0.7.0 in /opt/anaconda3/lib/python3.12/site-packages (from weasel<0.5.0,>=0.1.0->spacy) (0.16.0)\r\n",
      "Requirement already satisfied: smart-open<7.0.0,>=5.2.1 in /opt/anaconda3/lib/python3.12/site-packages (from weasel<0.5.0,>=0.1.0->spacy) (5.2.1)\r\n",
      "Requirement already satisfied: MarkupSafe>=2.0 in /opt/anaconda3/lib/python3.12/site-packages (from jinja2->spacy) (2.1.3)\r\n",
      "Traceback (most recent call last):\r\n",
      "  File \"<frozen runpy>\", line 189, in _run_module_as_main\r\n",
      "  File \"<frozen runpy>\", line 148, in _get_module_details\r\n",
      "  File \"<frozen runpy>\", line 112, in _get_module_details\r\n",
      "  File \"/opt/anaconda3/lib/python3.12/site-packages/spacy/__init__.py\", line 13, in <module>\r\n",
      "    from . import pipeline  # noqa: F401\r\n",
      "    ^^^^^^^^^^^^^^^^^^^^^^\r\n",
      "  File \"/opt/anaconda3/lib/python3.12/site-packages/spacy/pipeline/__init__.py\", line 1, in <module>\r\n",
      "    from .attributeruler import AttributeRuler\r\n",
      "  File \"/opt/anaconda3/lib/python3.12/site-packages/spacy/pipeline/attributeruler.py\", line 8, in <module>\r\n",
      "    from ..language import Language\r\n",
      "  File \"/opt/anaconda3/lib/python3.12/site-packages/spacy/language.py\", line 46, in <module>\r\n",
      "    from .pipe_analysis import analyze_pipes, print_pipe_analysis, validate_attrs\r\n",
      "  File \"/opt/anaconda3/lib/python3.12/site-packages/spacy/pipe_analysis.py\", line 6, in <module>\r\n",
      "    from .tokens import Doc, Span, Token\r\n",
      "  File \"/opt/anaconda3/lib/python3.12/site-packages/spacy/tokens/__init__.py\", line 1, in <module>\r\n",
      "    from ._serialize import DocBin\r\n",
      "  File \"/opt/anaconda3/lib/python3.12/site-packages/spacy/tokens/_serialize.py\", line 14, in <module>\r\n",
      "    from ..vocab import Vocab\r\n",
      "  File \"spacy/vocab.pyx\", line 1, in init spacy.vocab\r\n",
      "  File \"spacy/tokens/doc.pyx\", line 49, in init spacy.tokens.doc\r\n",
      "  File \"/opt/anaconda3/lib/python3.12/site-packages/spacy/schemas.py\", line 195, in <module>\r\n",
      "    class TokenPatternString(BaseModel):\r\n",
      "  File \"/opt/anaconda3/lib/python3.12/site-packages/pydantic/main.py\", line 286, in __new__\r\n",
      "    cls.__try_update_forward_refs__()\r\n",
      "  File \"/opt/anaconda3/lib/python3.12/site-packages/pydantic/main.py\", line 808, in __try_update_forward_refs__\r\n",
      "    update_model_forward_refs(cls, cls.__fields__.values(), cls.__config__.json_encoders, localns, (NameError,))\r\n",
      "  File \"/opt/anaconda3/lib/python3.12/site-packages/pydantic/typing.py\", line 554, in update_model_forward_refs\r\n",
      "    update_field_forward_refs(f, globalns=globalns, localns=localns)\r\n",
      "  File \"/opt/anaconda3/lib/python3.12/site-packages/pydantic/typing.py\", line 529, in update_field_forward_refs\r\n",
      "    update_field_forward_refs(sub_f, globalns=globalns, localns=localns)\r\n",
      "  File \"/opt/anaconda3/lib/python3.12/site-packages/pydantic/typing.py\", line 520, in update_field_forward_refs\r\n",
      "    field.type_ = evaluate_forwardref(field.type_, globalns, localns or None)\r\n",
      "                  ^^^^^^^^^^^^^^^^^^^^^^^^^^^^^^^^^^^^^^^^^^^^^^^^^^^^^^^^^^^\r\n",
      "  File \"/opt/anaconda3/lib/python3.12/site-packages/pydantic/typing.py\", line 66, in evaluate_forwardref\r\n",
      "    return cast(Any, type_)._evaluate(globalns, localns, set())\r\n",
      "           ^^^^^^^^^^^^^^^^^^^^^^^^^^^^^^^^^^^^^^^^^^^^^^^^^^^^\r\n",
      "TypeError: ForwardRef._evaluate() missing 1 required keyword-only argument: 'recursive_guard'\r\n",
      "Found existing installation: spacy 3.8.4\r\n",
      "Uninstalling spacy-3.8.4:\r\n",
      "  Successfully uninstalled spacy-3.8.4\r\n",
      "Found existing installation: pydantic 1.10.13\r\n",
      "Uninstalling pydantic-1.10.13:\r\n",
      "  Successfully uninstalled pydantic-1.10.13\r\n"
     ]
    }
   ],
   "execution_count": 1
  },
  {
   "metadata": {
    "ExecuteTime": {
     "end_time": "2025-01-30T23:54:39.960287Z",
     "start_time": "2025-01-30T23:54:12.976768Z"
    }
   },
   "cell_type": "code",
   "source": [
    "!pip install spacy pydantic==1.10.13\n",
    "!python -m spacy download en_core_web_sm\n"
   ],
   "id": "15894e292906303c",
   "outputs": [
    {
     "name": "stdout",
     "output_type": "stream",
     "text": [
      "Collecting spacy\r\n",
      "  Using cached spacy-3.8.4-cp312-cp312-macosx_10_13_x86_64.whl.metadata (27 kB)\r\n",
      "Collecting pydantic==1.10.13\r\n",
      "  Using cached pydantic-1.10.13-py3-none-any.whl.metadata (149 kB)\r\n",
      "Requirement already satisfied: typing-extensions>=4.2.0 in /opt/anaconda3/lib/python3.12/site-packages (from pydantic==1.10.13) (4.11.0)\r\n",
      "Requirement already satisfied: spacy-legacy<3.1.0,>=3.0.11 in /opt/anaconda3/lib/python3.12/site-packages (from spacy) (3.0.12)\r\n",
      "Requirement already satisfied: spacy-loggers<2.0.0,>=1.0.0 in /opt/anaconda3/lib/python3.12/site-packages (from spacy) (1.0.4)\r\n",
      "Requirement already satisfied: murmurhash<1.1.0,>=0.28.0 in /opt/anaconda3/lib/python3.12/site-packages (from spacy) (1.0.7)\r\n",
      "Requirement already satisfied: cymem<2.1.0,>=2.0.2 in /opt/anaconda3/lib/python3.12/site-packages (from spacy) (2.0.6)\r\n",
      "Requirement already satisfied: preshed<3.1.0,>=3.0.2 in /opt/anaconda3/lib/python3.12/site-packages (from spacy) (3.0.6)\r\n",
      "Requirement already satisfied: thinc<8.4.0,>=8.3.4 in /opt/anaconda3/lib/python3.12/site-packages (from spacy) (8.3.4)\r\n",
      "Requirement already satisfied: wasabi<1.2.0,>=0.9.1 in /opt/anaconda3/lib/python3.12/site-packages (from spacy) (0.9.1)\r\n",
      "Requirement already satisfied: srsly<3.0.0,>=2.4.3 in /opt/anaconda3/lib/python3.12/site-packages (from spacy) (2.4.8)\r\n",
      "Requirement already satisfied: catalogue<2.1.0,>=2.0.6 in /opt/anaconda3/lib/python3.12/site-packages (from spacy) (2.0.10)\r\n",
      "Requirement already satisfied: weasel<0.5.0,>=0.1.0 in /opt/anaconda3/lib/python3.12/site-packages (from spacy) (0.3.4)\r\n",
      "Requirement already satisfied: typer<1.0.0,>=0.3.0 in /opt/anaconda3/lib/python3.12/site-packages (from spacy) (0.9.0)\r\n",
      "Requirement already satisfied: tqdm<5.0.0,>=4.38.0 in /opt/anaconda3/lib/python3.12/site-packages (from spacy) (4.66.4)\r\n",
      "Requirement already satisfied: numpy>=1.19.0 in /opt/anaconda3/lib/python3.12/site-packages (from spacy) (1.26.4)\r\n",
      "Requirement already satisfied: requests<3.0.0,>=2.13.0 in /opt/anaconda3/lib/python3.12/site-packages (from spacy) (2.32.2)\r\n",
      "Requirement already satisfied: jinja2 in /opt/anaconda3/lib/python3.12/site-packages (from spacy) (3.1.4)\r\n",
      "Requirement already satisfied: setuptools in /opt/anaconda3/lib/python3.12/site-packages (from spacy) (69.5.1)\r\n",
      "Requirement already satisfied: packaging>=20.0 in /opt/anaconda3/lib/python3.12/site-packages (from spacy) (23.2)\r\n",
      "Requirement already satisfied: langcodes<4.0.0,>=3.2.0 in /opt/anaconda3/lib/python3.12/site-packages (from spacy) (3.3.0)\r\n",
      "Requirement already satisfied: charset-normalizer<4,>=2 in /opt/anaconda3/lib/python3.12/site-packages (from requests<3.0.0,>=2.13.0->spacy) (2.0.4)\r\n",
      "Requirement already satisfied: idna<4,>=2.5 in /opt/anaconda3/lib/python3.12/site-packages (from requests<3.0.0,>=2.13.0->spacy) (3.7)\r\n",
      "Requirement already satisfied: urllib3<3,>=1.21.1 in /opt/anaconda3/lib/python3.12/site-packages (from requests<3.0.0,>=2.13.0->spacy) (2.2.2)\r\n",
      "Requirement already satisfied: certifi>=2017.4.17 in /opt/anaconda3/lib/python3.12/site-packages (from requests<3.0.0,>=2.13.0->spacy) (2024.8.30)\r\n",
      "Requirement already satisfied: blis<1.3.0,>=1.2.0 in /opt/anaconda3/lib/python3.12/site-packages (from thinc<8.4.0,>=8.3.4->spacy) (1.2.0)\r\n",
      "Requirement already satisfied: confection<1.0.0,>=0.0.1 in /opt/anaconda3/lib/python3.12/site-packages (from thinc<8.4.0,>=8.3.4->spacy) (0.1.4)\r\n",
      "Requirement already satisfied: click<9.0.0,>=7.1.1 in /opt/anaconda3/lib/python3.12/site-packages (from typer<1.0.0,>=0.3.0->spacy) (8.1.7)\r\n",
      "Requirement already satisfied: cloudpathlib<0.17.0,>=0.7.0 in /opt/anaconda3/lib/python3.12/site-packages (from weasel<0.5.0,>=0.1.0->spacy) (0.16.0)\r\n",
      "Requirement already satisfied: smart-open<7.0.0,>=5.2.1 in /opt/anaconda3/lib/python3.12/site-packages (from weasel<0.5.0,>=0.1.0->spacy) (5.2.1)\r\n",
      "Requirement already satisfied: MarkupSafe>=2.0 in /opt/anaconda3/lib/python3.12/site-packages (from jinja2->spacy) (2.1.3)\r\n",
      "Using cached pydantic-1.10.13-py3-none-any.whl (158 kB)\r\n",
      "Using cached spacy-3.8.4-cp312-cp312-macosx_10_13_x86_64.whl (6.3 MB)\r\n",
      "Installing collected packages: pydantic, spacy\r\n",
      "\u001B[31mERROR: pip's dependency resolver does not currently take into account all the packages that are installed. This behaviour is the source of the following dependency conflicts.\r\n",
      "ydata-profiling 4.10.0 requires pydantic>=2, but you have pydantic 1.10.13 which is incompatible.\u001B[0m\u001B[31m\r\n",
      "\u001B[0mSuccessfully installed pydantic-1.10.13 spacy-3.8.4\r\n",
      "Traceback (most recent call last):\r\n",
      "  File \"<frozen runpy>\", line 189, in _run_module_as_main\r\n",
      "  File \"<frozen runpy>\", line 148, in _get_module_details\r\n",
      "  File \"<frozen runpy>\", line 112, in _get_module_details\r\n",
      "  File \"/opt/anaconda3/lib/python3.12/site-packages/spacy/__init__.py\", line 13, in <module>\r\n",
      "    from . import pipeline  # noqa: F401\r\n",
      "    ^^^^^^^^^^^^^^^^^^^^^^\r\n",
      "  File \"/opt/anaconda3/lib/python3.12/site-packages/spacy/pipeline/__init__.py\", line 1, in <module>\r\n",
      "    from .attributeruler import AttributeRuler\r\n",
      "  File \"/opt/anaconda3/lib/python3.12/site-packages/spacy/pipeline/attributeruler.py\", line 8, in <module>\r\n",
      "    from ..language import Language\r\n",
      "  File \"/opt/anaconda3/lib/python3.12/site-packages/spacy/language.py\", line 46, in <module>\r\n",
      "    from .pipe_analysis import analyze_pipes, print_pipe_analysis, validate_attrs\r\n",
      "  File \"/opt/anaconda3/lib/python3.12/site-packages/spacy/pipe_analysis.py\", line 6, in <module>\r\n",
      "    from .tokens import Doc, Span, Token\r\n",
      "  File \"/opt/anaconda3/lib/python3.12/site-packages/spacy/tokens/__init__.py\", line 1, in <module>\r\n",
      "    from ._serialize import DocBin\r\n",
      "  File \"/opt/anaconda3/lib/python3.12/site-packages/spacy/tokens/_serialize.py\", line 14, in <module>\r\n",
      "    from ..vocab import Vocab\r\n",
      "  File \"spacy/vocab.pyx\", line 1, in init spacy.vocab\r\n",
      "  File \"spacy/tokens/doc.pyx\", line 49, in init spacy.tokens.doc\r\n",
      "  File \"/opt/anaconda3/lib/python3.12/site-packages/spacy/schemas.py\", line 195, in <module>\r\n",
      "    class TokenPatternString(BaseModel):\r\n",
      "  File \"/opt/anaconda3/lib/python3.12/site-packages/pydantic/main.py\", line 286, in __new__\r\n",
      "    cls.__try_update_forward_refs__()\r\n",
      "  File \"/opt/anaconda3/lib/python3.12/site-packages/pydantic/main.py\", line 808, in __try_update_forward_refs__\r\n",
      "    update_model_forward_refs(cls, cls.__fields__.values(), cls.__config__.json_encoders, localns, (NameError,))\r\n",
      "  File \"/opt/anaconda3/lib/python3.12/site-packages/pydantic/typing.py\", line 554, in update_model_forward_refs\r\n",
      "    update_field_forward_refs(f, globalns=globalns, localns=localns)\r\n",
      "  File \"/opt/anaconda3/lib/python3.12/site-packages/pydantic/typing.py\", line 529, in update_field_forward_refs\r\n",
      "    update_field_forward_refs(sub_f, globalns=globalns, localns=localns)\r\n",
      "  File \"/opt/anaconda3/lib/python3.12/site-packages/pydantic/typing.py\", line 520, in update_field_forward_refs\r\n",
      "    field.type_ = evaluate_forwardref(field.type_, globalns, localns or None)\r\n",
      "                  ^^^^^^^^^^^^^^^^^^^^^^^^^^^^^^^^^^^^^^^^^^^^^^^^^^^^^^^^^^^\r\n",
      "  File \"/opt/anaconda3/lib/python3.12/site-packages/pydantic/typing.py\", line 66, in evaluate_forwardref\r\n",
      "    return cast(Any, type_)._evaluate(globalns, localns, set())\r\n",
      "           ^^^^^^^^^^^^^^^^^^^^^^^^^^^^^^^^^^^^^^^^^^^^^^^^^^^^\r\n",
      "TypeError: ForwardRef._evaluate() missing 1 required keyword-only argument: 'recursive_guard'\r\n"
     ]
    }
   ],
   "execution_count": 2
  },
  {
   "metadata": {
    "ExecuteTime": {
     "end_time": "2025-01-31T00:15:12.411452Z",
     "start_time": "2025-01-31T00:15:09.014855Z"
    }
   },
   "cell_type": "code",
   "source": [
    "# Test spaCy import first\n",
    "import spacy\n",
    "print(f\"spaCy version: {spacy.__version__}\")\n",
    "\n",
    "# Then test pydantic import\n",
    "import pydantic\n",
    "print(f\"pydantic version: {pydantic.__version__}\")\n"
   ],
   "id": "82ef050fded93d1c",
   "outputs": [
    {
     "ename": "TypeError",
     "evalue": "ForwardRef._evaluate() missing 1 required keyword-only argument: 'recursive_guard'",
     "output_type": "error",
     "traceback": [
      "\u001B[0;31m---------------------------------------------------------------------------\u001B[0m",
      "\u001B[0;31mTypeError\u001B[0m                                 Traceback (most recent call last)",
      "Cell \u001B[0;32mIn[6], line 2\u001B[0m\n\u001B[1;32m      1\u001B[0m \u001B[38;5;66;03m# Test spaCy import first\u001B[39;00m\n\u001B[0;32m----> 2\u001B[0m \u001B[38;5;28;01mimport\u001B[39;00m \u001B[38;5;21;01mspacy\u001B[39;00m\n\u001B[1;32m      3\u001B[0m \u001B[38;5;28mprint\u001B[39m(\u001B[38;5;124mf\u001B[39m\u001B[38;5;124m\"\u001B[39m\u001B[38;5;124mspaCy version: \u001B[39m\u001B[38;5;132;01m{\u001B[39;00mspacy\u001B[38;5;241m.\u001B[39m__version__\u001B[38;5;132;01m}\u001B[39;00m\u001B[38;5;124m\"\u001B[39m)\n\u001B[1;32m      5\u001B[0m \u001B[38;5;66;03m# Then test pydantic import\u001B[39;00m\n",
      "File \u001B[0;32m/opt/anaconda3/lib/python3.12/site-packages/spacy/__init__.py:13\u001B[0m\n\u001B[1;32m     10\u001B[0m \u001B[38;5;66;03m# These are imported as part of the API\u001B[39;00m\n\u001B[1;32m     11\u001B[0m \u001B[38;5;28;01mfrom\u001B[39;00m \u001B[38;5;21;01mthinc\u001B[39;00m\u001B[38;5;21;01m.\u001B[39;00m\u001B[38;5;21;01mapi\u001B[39;00m \u001B[38;5;28;01mimport\u001B[39;00m Config, prefer_gpu, require_cpu, require_gpu  \u001B[38;5;66;03m# noqa: F401\u001B[39;00m\n\u001B[0;32m---> 13\u001B[0m \u001B[38;5;28;01mfrom\u001B[39;00m \u001B[38;5;21;01m.\u001B[39;00m \u001B[38;5;28;01mimport\u001B[39;00m pipeline  \u001B[38;5;66;03m# noqa: F401\u001B[39;00m\n\u001B[1;32m     14\u001B[0m \u001B[38;5;28;01mfrom\u001B[39;00m \u001B[38;5;21;01m.\u001B[39;00m \u001B[38;5;28;01mimport\u001B[39;00m util\n\u001B[1;32m     15\u001B[0m \u001B[38;5;28;01mfrom\u001B[39;00m \u001B[38;5;21;01m.\u001B[39;00m\u001B[38;5;21;01mabout\u001B[39;00m \u001B[38;5;28;01mimport\u001B[39;00m __version__  \u001B[38;5;66;03m# noqa: F401\u001B[39;00m\n",
      "File \u001B[0;32m/opt/anaconda3/lib/python3.12/site-packages/spacy/pipeline/__init__.py:1\u001B[0m\n\u001B[0;32m----> 1\u001B[0m \u001B[38;5;28;01mfrom\u001B[39;00m \u001B[38;5;21;01m.\u001B[39;00m\u001B[38;5;21;01mattributeruler\u001B[39;00m \u001B[38;5;28;01mimport\u001B[39;00m AttributeRuler\n\u001B[1;32m      2\u001B[0m \u001B[38;5;28;01mfrom\u001B[39;00m \u001B[38;5;21;01m.\u001B[39;00m\u001B[38;5;21;01mdep_parser\u001B[39;00m \u001B[38;5;28;01mimport\u001B[39;00m DependencyParser\n\u001B[1;32m      3\u001B[0m \u001B[38;5;28;01mfrom\u001B[39;00m \u001B[38;5;21;01m.\u001B[39;00m\u001B[38;5;21;01medit_tree_lemmatizer\u001B[39;00m \u001B[38;5;28;01mimport\u001B[39;00m EditTreeLemmatizer\n",
      "File \u001B[0;32m/opt/anaconda3/lib/python3.12/site-packages/spacy/pipeline/attributeruler.py:8\u001B[0m\n\u001B[1;32m      6\u001B[0m \u001B[38;5;28;01mfrom\u001B[39;00m \u001B[38;5;21;01m.\u001B[39;00m\u001B[38;5;21;01m.\u001B[39;00m \u001B[38;5;28;01mimport\u001B[39;00m util\n\u001B[1;32m      7\u001B[0m \u001B[38;5;28;01mfrom\u001B[39;00m \u001B[38;5;21;01m.\u001B[39;00m\u001B[38;5;21;01m.\u001B[39;00m\u001B[38;5;21;01merrors\u001B[39;00m \u001B[38;5;28;01mimport\u001B[39;00m Errors\n\u001B[0;32m----> 8\u001B[0m \u001B[38;5;28;01mfrom\u001B[39;00m \u001B[38;5;21;01m.\u001B[39;00m\u001B[38;5;21;01m.\u001B[39;00m\u001B[38;5;21;01mlanguage\u001B[39;00m \u001B[38;5;28;01mimport\u001B[39;00m Language\n\u001B[1;32m      9\u001B[0m \u001B[38;5;28;01mfrom\u001B[39;00m \u001B[38;5;21;01m.\u001B[39;00m\u001B[38;5;21;01m.\u001B[39;00m\u001B[38;5;21;01mmatcher\u001B[39;00m \u001B[38;5;28;01mimport\u001B[39;00m Matcher\n\u001B[1;32m     10\u001B[0m \u001B[38;5;28;01mfrom\u001B[39;00m \u001B[38;5;21;01m.\u001B[39;00m\u001B[38;5;21;01m.\u001B[39;00m\u001B[38;5;21;01mscorer\u001B[39;00m \u001B[38;5;28;01mimport\u001B[39;00m Scorer\n",
      "File \u001B[0;32m/opt/anaconda3/lib/python3.12/site-packages/spacy/language.py:43\u001B[0m\n\u001B[1;32m     41\u001B[0m \u001B[38;5;28;01mfrom\u001B[39;00m \u001B[38;5;21;01m.\u001B[39;00m\u001B[38;5;21;01merrors\u001B[39;00m \u001B[38;5;28;01mimport\u001B[39;00m Errors, Warnings\n\u001B[1;32m     42\u001B[0m \u001B[38;5;28;01mfrom\u001B[39;00m \u001B[38;5;21;01m.\u001B[39;00m\u001B[38;5;21;01mgit_info\u001B[39;00m \u001B[38;5;28;01mimport\u001B[39;00m GIT_VERSION\n\u001B[0;32m---> 43\u001B[0m \u001B[38;5;28;01mfrom\u001B[39;00m \u001B[38;5;21;01m.\u001B[39;00m\u001B[38;5;21;01mlang\u001B[39;00m\u001B[38;5;21;01m.\u001B[39;00m\u001B[38;5;21;01mpunctuation\u001B[39;00m \u001B[38;5;28;01mimport\u001B[39;00m TOKENIZER_INFIXES, TOKENIZER_PREFIXES, TOKENIZER_SUFFIXES\n\u001B[1;32m     44\u001B[0m \u001B[38;5;28;01mfrom\u001B[39;00m \u001B[38;5;21;01m.\u001B[39;00m\u001B[38;5;21;01mlang\u001B[39;00m\u001B[38;5;21;01m.\u001B[39;00m\u001B[38;5;21;01mtokenizer_exceptions\u001B[39;00m \u001B[38;5;28;01mimport\u001B[39;00m BASE_EXCEPTIONS, URL_MATCH\n\u001B[1;32m     45\u001B[0m \u001B[38;5;28;01mfrom\u001B[39;00m \u001B[38;5;21;01m.\u001B[39;00m\u001B[38;5;21;01mlookups\u001B[39;00m \u001B[38;5;28;01mimport\u001B[39;00m load_lookups\n",
      "File \u001B[0;32m/opt/anaconda3/lib/python3.12/site-packages/spacy/pipe_analysis.py:6\u001B[0m\n\u001B[1;32m      3\u001B[0m \u001B[38;5;28;01mfrom\u001B[39;00m \u001B[38;5;21;01mwasabi\u001B[39;00m \u001B[38;5;28;01mimport\u001B[39;00m msg\n\u001B[1;32m      5\u001B[0m \u001B[38;5;28;01mfrom\u001B[39;00m \u001B[38;5;21;01m.\u001B[39;00m\u001B[38;5;21;01merrors\u001B[39;00m \u001B[38;5;28;01mimport\u001B[39;00m Errors\n\u001B[0;32m----> 6\u001B[0m \u001B[38;5;28;01mfrom\u001B[39;00m \u001B[38;5;21;01m.\u001B[39;00m\u001B[38;5;21;01mtokens\u001B[39;00m \u001B[38;5;28;01mimport\u001B[39;00m Doc, Span, Token\n\u001B[1;32m      7\u001B[0m \u001B[38;5;28;01mfrom\u001B[39;00m \u001B[38;5;21;01m.\u001B[39;00m\u001B[38;5;21;01mutil\u001B[39;00m \u001B[38;5;28;01mimport\u001B[39;00m dot_to_dict\n\u001B[1;32m      9\u001B[0m \u001B[38;5;28;01mif\u001B[39;00m TYPE_CHECKING:\n\u001B[1;32m     10\u001B[0m     \u001B[38;5;66;03m# This lets us add type hints for mypy etc. without causing circular imports\u001B[39;00m\n",
      "File \u001B[0;32m/opt/anaconda3/lib/python3.12/site-packages/spacy/tokens/__init__.py:1\u001B[0m\n\u001B[0;32m----> 1\u001B[0m \u001B[38;5;28;01mfrom\u001B[39;00m \u001B[38;5;21;01m.\u001B[39;00m\u001B[38;5;21;01m_serialize\u001B[39;00m \u001B[38;5;28;01mimport\u001B[39;00m DocBin\n\u001B[1;32m      2\u001B[0m \u001B[38;5;28;01mfrom\u001B[39;00m \u001B[38;5;21;01m.\u001B[39;00m\u001B[38;5;21;01mdoc\u001B[39;00m \u001B[38;5;28;01mimport\u001B[39;00m Doc\n\u001B[1;32m      3\u001B[0m \u001B[38;5;28;01mfrom\u001B[39;00m \u001B[38;5;21;01m.\u001B[39;00m\u001B[38;5;21;01mmorphanalysis\u001B[39;00m \u001B[38;5;28;01mimport\u001B[39;00m MorphAnalysis\n",
      "File \u001B[0;32m/opt/anaconda3/lib/python3.12/site-packages/spacy/tokens/_serialize.py:14\u001B[0m\n\u001B[1;32m     12\u001B[0m \u001B[38;5;28;01mfrom\u001B[39;00m \u001B[38;5;21;01m.\u001B[39;00m\u001B[38;5;21;01m.\u001B[39;00m\u001B[38;5;21;01merrors\u001B[39;00m \u001B[38;5;28;01mimport\u001B[39;00m Errors\n\u001B[1;32m     13\u001B[0m \u001B[38;5;28;01mfrom\u001B[39;00m \u001B[38;5;21;01m.\u001B[39;00m\u001B[38;5;21;01m.\u001B[39;00m\u001B[38;5;21;01mutil\u001B[39;00m \u001B[38;5;28;01mimport\u001B[39;00m SimpleFrozenList, ensure_path\n\u001B[0;32m---> 14\u001B[0m \u001B[38;5;28;01mfrom\u001B[39;00m \u001B[38;5;21;01m.\u001B[39;00m\u001B[38;5;21;01m.\u001B[39;00m\u001B[38;5;21;01mvocab\u001B[39;00m \u001B[38;5;28;01mimport\u001B[39;00m Vocab\n\u001B[1;32m     15\u001B[0m \u001B[38;5;28;01mfrom\u001B[39;00m \u001B[38;5;21;01m.\u001B[39;00m\u001B[38;5;21;01m_dict_proxies\u001B[39;00m \u001B[38;5;28;01mimport\u001B[39;00m SpanGroups\n\u001B[1;32m     16\u001B[0m \u001B[38;5;28;01mfrom\u001B[39;00m \u001B[38;5;21;01m.\u001B[39;00m\u001B[38;5;21;01mdoc\u001B[39;00m \u001B[38;5;28;01mimport\u001B[39;00m DOCBIN_ALL_ATTRS \u001B[38;5;28;01mas\u001B[39;00m ALL_ATTRS\n",
      "File \u001B[0;32m/opt/anaconda3/lib/python3.12/site-packages/spacy/vocab.pyx:1\u001B[0m, in \u001B[0;36minit spacy.vocab\u001B[0;34m()\u001B[0m\n",
      "File \u001B[0;32m/opt/anaconda3/lib/python3.12/site-packages/spacy/tokens/doc.pyx:49\u001B[0m, in \u001B[0;36minit spacy.tokens.doc\u001B[0;34m()\u001B[0m\n",
      "File \u001B[0;32m/opt/anaconda3/lib/python3.12/site-packages/spacy/schemas.py:195\u001B[0m\n\u001B[1;32m    191\u001B[0m         obj \u001B[38;5;241m=\u001B[39m converted\n\u001B[1;32m    192\u001B[0m     \u001B[38;5;28;01mreturn\u001B[39;00m validate(TokenPatternSchema, {\u001B[38;5;124m\"\u001B[39m\u001B[38;5;124mpattern\u001B[39m\u001B[38;5;124m\"\u001B[39m: obj})\n\u001B[0;32m--> 195\u001B[0m \u001B[38;5;28;01mclass\u001B[39;00m \u001B[38;5;21;01mTokenPatternString\u001B[39;00m(BaseModel):\n\u001B[1;32m    196\u001B[0m     REGEX: Optional[Union[StrictStr, \u001B[38;5;124m\"\u001B[39m\u001B[38;5;124mTokenPatternString\u001B[39m\u001B[38;5;124m\"\u001B[39m]] \u001B[38;5;241m=\u001B[39m Field(\u001B[38;5;28;01mNone\u001B[39;00m, alias\u001B[38;5;241m=\u001B[39m\u001B[38;5;124m\"\u001B[39m\u001B[38;5;124mregex\u001B[39m\u001B[38;5;124m\"\u001B[39m)\n\u001B[1;32m    197\u001B[0m     IN: Optional[List[StrictStr]] \u001B[38;5;241m=\u001B[39m Field(\u001B[38;5;28;01mNone\u001B[39;00m, alias\u001B[38;5;241m=\u001B[39m\u001B[38;5;124m\"\u001B[39m\u001B[38;5;124min\u001B[39m\u001B[38;5;124m\"\u001B[39m)\n",
      "File \u001B[0;32m/opt/anaconda3/lib/python3.12/site-packages/pydantic/v1/main.py:286\u001B[0m, in \u001B[0;36mModelMetaclass.__new__\u001B[0;34m(mcs, name, bases, namespace, **kwargs)\u001B[0m\n\u001B[1;32m    284\u001B[0m \u001B[38;5;28mcls\u001B[39m\u001B[38;5;241m.\u001B[39m__signature__ \u001B[38;5;241m=\u001B[39m ClassAttribute(\u001B[38;5;124m'\u001B[39m\u001B[38;5;124m__signature__\u001B[39m\u001B[38;5;124m'\u001B[39m, generate_model_signature(\u001B[38;5;28mcls\u001B[39m\u001B[38;5;241m.\u001B[39m\u001B[38;5;21m__init__\u001B[39m, fields, config))\n\u001B[1;32m    285\u001B[0m \u001B[38;5;28;01mif\u001B[39;00m resolve_forward_refs:\n\u001B[0;32m--> 286\u001B[0m     \u001B[38;5;28mcls\u001B[39m\u001B[38;5;241m.\u001B[39m__try_update_forward_refs__()\n\u001B[1;32m    288\u001B[0m \u001B[38;5;66;03m# preserve `__set_name__` protocol defined in https://peps.python.org/pep-0487\u001B[39;00m\n\u001B[1;32m    289\u001B[0m \u001B[38;5;66;03m# for attributes not in `new_namespace` (e.g. private attributes)\u001B[39;00m\n\u001B[1;32m    290\u001B[0m \u001B[38;5;28;01mfor\u001B[39;00m name, obj \u001B[38;5;129;01min\u001B[39;00m namespace\u001B[38;5;241m.\u001B[39mitems():\n",
      "File \u001B[0;32m/opt/anaconda3/lib/python3.12/site-packages/pydantic/v1/main.py:808\u001B[0m, in \u001B[0;36mBaseModel.__try_update_forward_refs__\u001B[0;34m(cls, **localns)\u001B[0m\n\u001B[1;32m    802\u001B[0m \u001B[38;5;129m@classmethod\u001B[39m\n\u001B[1;32m    803\u001B[0m \u001B[38;5;28;01mdef\u001B[39;00m \u001B[38;5;21m__try_update_forward_refs__\u001B[39m(\u001B[38;5;28mcls\u001B[39m, \u001B[38;5;241m*\u001B[39m\u001B[38;5;241m*\u001B[39mlocalns: Any) \u001B[38;5;241m-\u001B[39m\u001B[38;5;241m>\u001B[39m \u001B[38;5;28;01mNone\u001B[39;00m:\n\u001B[1;32m    804\u001B[0m \u001B[38;5;250m    \u001B[39m\u001B[38;5;124;03m\"\"\"\u001B[39;00m\n\u001B[1;32m    805\u001B[0m \u001B[38;5;124;03m    Same as update_forward_refs but will not raise exception\u001B[39;00m\n\u001B[1;32m    806\u001B[0m \u001B[38;5;124;03m    when forward references are not defined.\u001B[39;00m\n\u001B[1;32m    807\u001B[0m \u001B[38;5;124;03m    \"\"\"\u001B[39;00m\n\u001B[0;32m--> 808\u001B[0m     update_model_forward_refs(\u001B[38;5;28mcls\u001B[39m, \u001B[38;5;28mcls\u001B[39m\u001B[38;5;241m.\u001B[39m__fields__\u001B[38;5;241m.\u001B[39mvalues(), \u001B[38;5;28mcls\u001B[39m\u001B[38;5;241m.\u001B[39m__config__\u001B[38;5;241m.\u001B[39mjson_encoders, localns, (\u001B[38;5;167;01mNameError\u001B[39;00m,))\n",
      "File \u001B[0;32m/opt/anaconda3/lib/python3.12/site-packages/pydantic/v1/typing.py:554\u001B[0m, in \u001B[0;36mupdate_model_forward_refs\u001B[0;34m(model, fields, json_encoders, localns, exc_to_suppress)\u001B[0m\n\u001B[1;32m    552\u001B[0m \u001B[38;5;28;01mfor\u001B[39;00m f \u001B[38;5;129;01min\u001B[39;00m fields:\n\u001B[1;32m    553\u001B[0m     \u001B[38;5;28;01mtry\u001B[39;00m:\n\u001B[0;32m--> 554\u001B[0m         update_field_forward_refs(f, globalns\u001B[38;5;241m=\u001B[39mglobalns, localns\u001B[38;5;241m=\u001B[39mlocalns)\n\u001B[1;32m    555\u001B[0m     \u001B[38;5;28;01mexcept\u001B[39;00m exc_to_suppress:\n\u001B[1;32m    556\u001B[0m         \u001B[38;5;28;01mpass\u001B[39;00m\n",
      "File \u001B[0;32m/opt/anaconda3/lib/python3.12/site-packages/pydantic/v1/typing.py:529\u001B[0m, in \u001B[0;36mupdate_field_forward_refs\u001B[0;34m(field, globalns, localns)\u001B[0m\n\u001B[1;32m    527\u001B[0m \u001B[38;5;28;01mif\u001B[39;00m field\u001B[38;5;241m.\u001B[39msub_fields:\n\u001B[1;32m    528\u001B[0m     \u001B[38;5;28;01mfor\u001B[39;00m sub_f \u001B[38;5;129;01min\u001B[39;00m field\u001B[38;5;241m.\u001B[39msub_fields:\n\u001B[0;32m--> 529\u001B[0m         update_field_forward_refs(sub_f, globalns\u001B[38;5;241m=\u001B[39mglobalns, localns\u001B[38;5;241m=\u001B[39mlocalns)\n\u001B[1;32m    531\u001B[0m \u001B[38;5;28;01mif\u001B[39;00m field\u001B[38;5;241m.\u001B[39mdiscriminator_key \u001B[38;5;129;01mis\u001B[39;00m \u001B[38;5;129;01mnot\u001B[39;00m \u001B[38;5;28;01mNone\u001B[39;00m:\n\u001B[1;32m    532\u001B[0m     field\u001B[38;5;241m.\u001B[39mprepare_discriminated_union_sub_fields()\n",
      "File \u001B[0;32m/opt/anaconda3/lib/python3.12/site-packages/pydantic/v1/typing.py:520\u001B[0m, in \u001B[0;36mupdate_field_forward_refs\u001B[0;34m(field, globalns, localns)\u001B[0m\n\u001B[1;32m    518\u001B[0m \u001B[38;5;28;01mif\u001B[39;00m field\u001B[38;5;241m.\u001B[39mtype_\u001B[38;5;241m.\u001B[39m\u001B[38;5;18m__class__\u001B[39m \u001B[38;5;241m==\u001B[39m ForwardRef:\n\u001B[1;32m    519\u001B[0m     prepare \u001B[38;5;241m=\u001B[39m \u001B[38;5;28;01mTrue\u001B[39;00m\n\u001B[0;32m--> 520\u001B[0m     field\u001B[38;5;241m.\u001B[39mtype_ \u001B[38;5;241m=\u001B[39m evaluate_forwardref(field\u001B[38;5;241m.\u001B[39mtype_, globalns, localns \u001B[38;5;129;01mor\u001B[39;00m \u001B[38;5;28;01mNone\u001B[39;00m)\n\u001B[1;32m    521\u001B[0m \u001B[38;5;28;01mif\u001B[39;00m field\u001B[38;5;241m.\u001B[39mouter_type_\u001B[38;5;241m.\u001B[39m\u001B[38;5;18m__class__\u001B[39m \u001B[38;5;241m==\u001B[39m ForwardRef:\n\u001B[1;32m    522\u001B[0m     prepare \u001B[38;5;241m=\u001B[39m \u001B[38;5;28;01mTrue\u001B[39;00m\n",
      "File \u001B[0;32m/opt/anaconda3/lib/python3.12/site-packages/pydantic/v1/typing.py:66\u001B[0m, in \u001B[0;36mevaluate_forwardref\u001B[0;34m(type_, globalns, localns)\u001B[0m\n\u001B[1;32m     63\u001B[0m \u001B[38;5;28;01mdef\u001B[39;00m \u001B[38;5;21mevaluate_forwardref\u001B[39m(type_: ForwardRef, globalns: Any, localns: Any) \u001B[38;5;241m-\u001B[39m\u001B[38;5;241m>\u001B[39m Any:\n\u001B[1;32m     64\u001B[0m     \u001B[38;5;66;03m# Even though it is the right signature for python 3.9, mypy complains with\u001B[39;00m\n\u001B[1;32m     65\u001B[0m     \u001B[38;5;66;03m# `error: Too many arguments for \"_evaluate\" of \"ForwardRef\"` hence the cast...\u001B[39;00m\n\u001B[0;32m---> 66\u001B[0m     \u001B[38;5;28;01mreturn\u001B[39;00m cast(Any, type_)\u001B[38;5;241m.\u001B[39m_evaluate(globalns, localns, \u001B[38;5;28mset\u001B[39m())\n",
      "\u001B[0;31mTypeError\u001B[0m: ForwardRef._evaluate() missing 1 required keyword-only argument: 'recursive_guard'"
     ]
    }
   ],
   "execution_count": 6
  },
  {
   "metadata": {},
   "cell_type": "markdown",
   "source": "## Import Libraries",
   "id": "d06c4167ed29c15d"
  },
  {
   "metadata": {
    "ExecuteTime": {
     "end_time": "2025-01-30T23:43:42.350829Z",
     "start_time": "2025-01-30T23:43:23.567336Z"
    }
   },
   "cell_type": "code",
   "source": [
    "import nltk\n",
    "import spacy\n",
    "from sumy.parsers.plaintext import PlaintextParser\n",
    "from sumy.nlp.tokenizers import Tokenizer\n",
    "from sumy.summarizers.lsa import LsaSummarizer\n",
    "from collections import Counter\n",
    "\n",
    "# Download NLTK data\n",
    "nltk.download('punkt')\n",
    "nltk.download('stopwords')"
   ],
   "id": "cc14ffe63cff0fbe",
   "outputs": [
    {
     "ename": "TypeError",
     "evalue": "ForwardRef._evaluate() missing 1 required keyword-only argument: 'recursive_guard'",
     "output_type": "error",
     "traceback": [
      "\u001B[0;31m---------------------------------------------------------------------------\u001B[0m",
      "\u001B[0;31mTypeError\u001B[0m                                 Traceback (most recent call last)",
      "Cell \u001B[0;32mIn[4], line 2\u001B[0m\n\u001B[1;32m      1\u001B[0m \u001B[38;5;28;01mimport\u001B[39;00m \u001B[38;5;21;01mnltk\u001B[39;00m\n\u001B[0;32m----> 2\u001B[0m \u001B[38;5;28;01mimport\u001B[39;00m \u001B[38;5;21;01mspacy\u001B[39;00m\n\u001B[1;32m      3\u001B[0m \u001B[38;5;28;01mfrom\u001B[39;00m \u001B[38;5;21;01msumy\u001B[39;00m\u001B[38;5;21;01m.\u001B[39;00m\u001B[38;5;21;01mparsers\u001B[39;00m\u001B[38;5;21;01m.\u001B[39;00m\u001B[38;5;21;01mplaintext\u001B[39;00m \u001B[38;5;28;01mimport\u001B[39;00m PlaintextParser\n\u001B[1;32m      4\u001B[0m \u001B[38;5;28;01mfrom\u001B[39;00m \u001B[38;5;21;01msumy\u001B[39;00m\u001B[38;5;21;01m.\u001B[39;00m\u001B[38;5;21;01mnlp\u001B[39;00m\u001B[38;5;21;01m.\u001B[39;00m\u001B[38;5;21;01mtokenizers\u001B[39;00m \u001B[38;5;28;01mimport\u001B[39;00m Tokenizer\n",
      "File \u001B[0;32m/opt/anaconda3/lib/python3.12/site-packages/spacy/__init__.py:13\u001B[0m\n\u001B[1;32m     10\u001B[0m \u001B[38;5;66;03m# These are imported as part of the API\u001B[39;00m\n\u001B[1;32m     11\u001B[0m \u001B[38;5;28;01mfrom\u001B[39;00m \u001B[38;5;21;01mthinc\u001B[39;00m\u001B[38;5;21;01m.\u001B[39;00m\u001B[38;5;21;01mapi\u001B[39;00m \u001B[38;5;28;01mimport\u001B[39;00m Config, prefer_gpu, require_cpu, require_gpu  \u001B[38;5;66;03m# noqa: F401\u001B[39;00m\n\u001B[0;32m---> 13\u001B[0m \u001B[38;5;28;01mfrom\u001B[39;00m \u001B[38;5;21;01m.\u001B[39;00m \u001B[38;5;28;01mimport\u001B[39;00m pipeline  \u001B[38;5;66;03m# noqa: F401\u001B[39;00m\n\u001B[1;32m     14\u001B[0m \u001B[38;5;28;01mfrom\u001B[39;00m \u001B[38;5;21;01m.\u001B[39;00m \u001B[38;5;28;01mimport\u001B[39;00m util\n\u001B[1;32m     15\u001B[0m \u001B[38;5;28;01mfrom\u001B[39;00m \u001B[38;5;21;01m.\u001B[39;00m\u001B[38;5;21;01mabout\u001B[39;00m \u001B[38;5;28;01mimport\u001B[39;00m __version__  \u001B[38;5;66;03m# noqa: F401\u001B[39;00m\n",
      "File \u001B[0;32m/opt/anaconda3/lib/python3.12/site-packages/spacy/pipeline/__init__.py:1\u001B[0m\n\u001B[0;32m----> 1\u001B[0m \u001B[38;5;28;01mfrom\u001B[39;00m \u001B[38;5;21;01m.\u001B[39;00m\u001B[38;5;21;01mattributeruler\u001B[39;00m \u001B[38;5;28;01mimport\u001B[39;00m AttributeRuler\n\u001B[1;32m      2\u001B[0m \u001B[38;5;28;01mfrom\u001B[39;00m \u001B[38;5;21;01m.\u001B[39;00m\u001B[38;5;21;01mdep_parser\u001B[39;00m \u001B[38;5;28;01mimport\u001B[39;00m DependencyParser\n\u001B[1;32m      3\u001B[0m \u001B[38;5;28;01mfrom\u001B[39;00m \u001B[38;5;21;01m.\u001B[39;00m\u001B[38;5;21;01medit_tree_lemmatizer\u001B[39;00m \u001B[38;5;28;01mimport\u001B[39;00m EditTreeLemmatizer\n",
      "File \u001B[0;32m/opt/anaconda3/lib/python3.12/site-packages/spacy/pipeline/attributeruler.py:8\u001B[0m\n\u001B[1;32m      6\u001B[0m \u001B[38;5;28;01mfrom\u001B[39;00m \u001B[38;5;21;01m.\u001B[39;00m\u001B[38;5;21;01m.\u001B[39;00m \u001B[38;5;28;01mimport\u001B[39;00m util\n\u001B[1;32m      7\u001B[0m \u001B[38;5;28;01mfrom\u001B[39;00m \u001B[38;5;21;01m.\u001B[39;00m\u001B[38;5;21;01m.\u001B[39;00m\u001B[38;5;21;01merrors\u001B[39;00m \u001B[38;5;28;01mimport\u001B[39;00m Errors\n\u001B[0;32m----> 8\u001B[0m \u001B[38;5;28;01mfrom\u001B[39;00m \u001B[38;5;21;01m.\u001B[39;00m\u001B[38;5;21;01m.\u001B[39;00m\u001B[38;5;21;01mlanguage\u001B[39;00m \u001B[38;5;28;01mimport\u001B[39;00m Language\n\u001B[1;32m      9\u001B[0m \u001B[38;5;28;01mfrom\u001B[39;00m \u001B[38;5;21;01m.\u001B[39;00m\u001B[38;5;21;01m.\u001B[39;00m\u001B[38;5;21;01mmatcher\u001B[39;00m \u001B[38;5;28;01mimport\u001B[39;00m Matcher\n\u001B[1;32m     10\u001B[0m \u001B[38;5;28;01mfrom\u001B[39;00m \u001B[38;5;21;01m.\u001B[39;00m\u001B[38;5;21;01m.\u001B[39;00m\u001B[38;5;21;01mscorer\u001B[39;00m \u001B[38;5;28;01mimport\u001B[39;00m Scorer\n",
      "File \u001B[0;32m/opt/anaconda3/lib/python3.12/site-packages/spacy/language.py:43\u001B[0m\n\u001B[1;32m     41\u001B[0m \u001B[38;5;28;01mfrom\u001B[39;00m \u001B[38;5;21;01m.\u001B[39;00m\u001B[38;5;21;01mlang\u001B[39;00m\u001B[38;5;21;01m.\u001B[39;00m\u001B[38;5;21;01mtokenizer_exceptions\u001B[39;00m \u001B[38;5;28;01mimport\u001B[39;00m BASE_EXCEPTIONS, URL_MATCH\n\u001B[1;32m     42\u001B[0m \u001B[38;5;28;01mfrom\u001B[39;00m \u001B[38;5;21;01m.\u001B[39;00m\u001B[38;5;21;01mlookups\u001B[39;00m \u001B[38;5;28;01mimport\u001B[39;00m load_lookups\n\u001B[0;32m---> 43\u001B[0m \u001B[38;5;28;01mfrom\u001B[39;00m \u001B[38;5;21;01m.\u001B[39;00m\u001B[38;5;21;01mpipe_analysis\u001B[39;00m \u001B[38;5;28;01mimport\u001B[39;00m analyze_pipes, print_pipe_analysis, validate_attrs\n\u001B[1;32m     44\u001B[0m \u001B[38;5;28;01mfrom\u001B[39;00m \u001B[38;5;21;01m.\u001B[39;00m\u001B[38;5;21;01mschemas\u001B[39;00m \u001B[38;5;28;01mimport\u001B[39;00m (\n\u001B[1;32m     45\u001B[0m     ConfigSchema,\n\u001B[1;32m     46\u001B[0m     ConfigSchemaInit,\n\u001B[0;32m   (...)\u001B[0m\n\u001B[1;32m     49\u001B[0m     validate_init_settings,\n\u001B[1;32m     50\u001B[0m )\n\u001B[1;32m     51\u001B[0m \u001B[38;5;28;01mfrom\u001B[39;00m \u001B[38;5;21;01m.\u001B[39;00m\u001B[38;5;21;01mscorer\u001B[39;00m \u001B[38;5;28;01mimport\u001B[39;00m Scorer\n",
      "File \u001B[0;32m/opt/anaconda3/lib/python3.12/site-packages/spacy/pipe_analysis.py:6\u001B[0m\n\u001B[1;32m      3\u001B[0m \u001B[38;5;28;01mfrom\u001B[39;00m \u001B[38;5;21;01mwasabi\u001B[39;00m \u001B[38;5;28;01mimport\u001B[39;00m msg\n\u001B[1;32m      5\u001B[0m \u001B[38;5;28;01mfrom\u001B[39;00m \u001B[38;5;21;01m.\u001B[39;00m\u001B[38;5;21;01merrors\u001B[39;00m \u001B[38;5;28;01mimport\u001B[39;00m Errors\n\u001B[0;32m----> 6\u001B[0m \u001B[38;5;28;01mfrom\u001B[39;00m \u001B[38;5;21;01m.\u001B[39;00m\u001B[38;5;21;01mtokens\u001B[39;00m \u001B[38;5;28;01mimport\u001B[39;00m Doc, Span, Token\n\u001B[1;32m      7\u001B[0m \u001B[38;5;28;01mfrom\u001B[39;00m \u001B[38;5;21;01m.\u001B[39;00m\u001B[38;5;21;01mutil\u001B[39;00m \u001B[38;5;28;01mimport\u001B[39;00m dot_to_dict\n\u001B[1;32m      9\u001B[0m \u001B[38;5;28;01mif\u001B[39;00m TYPE_CHECKING:\n\u001B[1;32m     10\u001B[0m     \u001B[38;5;66;03m# This lets us add type hints for mypy etc. without causing circular imports\u001B[39;00m\n",
      "File \u001B[0;32m/opt/anaconda3/lib/python3.12/site-packages/spacy/tokens/__init__.py:1\u001B[0m\n\u001B[0;32m----> 1\u001B[0m \u001B[38;5;28;01mfrom\u001B[39;00m \u001B[38;5;21;01m.\u001B[39;00m\u001B[38;5;21;01m_serialize\u001B[39;00m \u001B[38;5;28;01mimport\u001B[39;00m DocBin\n\u001B[1;32m      2\u001B[0m \u001B[38;5;28;01mfrom\u001B[39;00m \u001B[38;5;21;01m.\u001B[39;00m\u001B[38;5;21;01mdoc\u001B[39;00m \u001B[38;5;28;01mimport\u001B[39;00m Doc\n\u001B[1;32m      3\u001B[0m \u001B[38;5;28;01mfrom\u001B[39;00m \u001B[38;5;21;01m.\u001B[39;00m\u001B[38;5;21;01mmorphanalysis\u001B[39;00m \u001B[38;5;28;01mimport\u001B[39;00m MorphAnalysis\n",
      "File \u001B[0;32m/opt/anaconda3/lib/python3.12/site-packages/spacy/tokens/_serialize.py:14\u001B[0m\n\u001B[1;32m     12\u001B[0m \u001B[38;5;28;01mfrom\u001B[39;00m \u001B[38;5;21;01m.\u001B[39;00m\u001B[38;5;21;01m.\u001B[39;00m\u001B[38;5;21;01merrors\u001B[39;00m \u001B[38;5;28;01mimport\u001B[39;00m Errors\n\u001B[1;32m     13\u001B[0m \u001B[38;5;28;01mfrom\u001B[39;00m \u001B[38;5;21;01m.\u001B[39;00m\u001B[38;5;21;01m.\u001B[39;00m\u001B[38;5;21;01mutil\u001B[39;00m \u001B[38;5;28;01mimport\u001B[39;00m SimpleFrozenList, ensure_path\n\u001B[0;32m---> 14\u001B[0m \u001B[38;5;28;01mfrom\u001B[39;00m \u001B[38;5;21;01m.\u001B[39;00m\u001B[38;5;21;01m.\u001B[39;00m\u001B[38;5;21;01mvocab\u001B[39;00m \u001B[38;5;28;01mimport\u001B[39;00m Vocab\n\u001B[1;32m     15\u001B[0m \u001B[38;5;28;01mfrom\u001B[39;00m \u001B[38;5;21;01m.\u001B[39;00m\u001B[38;5;21;01m_dict_proxies\u001B[39;00m \u001B[38;5;28;01mimport\u001B[39;00m SpanGroups\n\u001B[1;32m     16\u001B[0m \u001B[38;5;28;01mfrom\u001B[39;00m \u001B[38;5;21;01m.\u001B[39;00m\u001B[38;5;21;01mdoc\u001B[39;00m \u001B[38;5;28;01mimport\u001B[39;00m DOCBIN_ALL_ATTRS \u001B[38;5;28;01mas\u001B[39;00m ALL_ATTRS\n",
      "File \u001B[0;32m/opt/anaconda3/lib/python3.12/site-packages/spacy/vocab.pyx:1\u001B[0m, in \u001B[0;36minit spacy.vocab\u001B[0;34m()\u001B[0m\n",
      "File \u001B[0;32m/opt/anaconda3/lib/python3.12/site-packages/spacy/tokens/doc.pyx:49\u001B[0m, in \u001B[0;36minit spacy.tokens.doc\u001B[0;34m()\u001B[0m\n",
      "File \u001B[0;32m/opt/anaconda3/lib/python3.12/site-packages/spacy/schemas.py:195\u001B[0m\n\u001B[1;32m    191\u001B[0m         obj \u001B[38;5;241m=\u001B[39m converted\n\u001B[1;32m    192\u001B[0m     \u001B[38;5;28;01mreturn\u001B[39;00m validate(TokenPatternSchema, {\u001B[38;5;124m\"\u001B[39m\u001B[38;5;124mpattern\u001B[39m\u001B[38;5;124m\"\u001B[39m: obj})\n\u001B[0;32m--> 195\u001B[0m \u001B[38;5;28;01mclass\u001B[39;00m \u001B[38;5;21;01mTokenPatternString\u001B[39;00m(BaseModel):\n\u001B[1;32m    196\u001B[0m     REGEX: Optional[Union[StrictStr, \u001B[38;5;124m\"\u001B[39m\u001B[38;5;124mTokenPatternString\u001B[39m\u001B[38;5;124m\"\u001B[39m]] \u001B[38;5;241m=\u001B[39m Field(\u001B[38;5;28;01mNone\u001B[39;00m, alias\u001B[38;5;241m=\u001B[39m\u001B[38;5;124m\"\u001B[39m\u001B[38;5;124mregex\u001B[39m\u001B[38;5;124m\"\u001B[39m)\n\u001B[1;32m    197\u001B[0m     IN: Optional[List[StrictStr]] \u001B[38;5;241m=\u001B[39m Field(\u001B[38;5;28;01mNone\u001B[39;00m, alias\u001B[38;5;241m=\u001B[39m\u001B[38;5;124m\"\u001B[39m\u001B[38;5;124min\u001B[39m\u001B[38;5;124m\"\u001B[39m)\n",
      "File \u001B[0;32m/opt/anaconda3/lib/python3.12/site-packages/pydantic/main.py:286\u001B[0m, in \u001B[0;36mModelMetaclass.__new__\u001B[0;34m(mcs, name, bases, namespace, **kwargs)\u001B[0m\n\u001B[1;32m    284\u001B[0m \u001B[38;5;28mcls\u001B[39m\u001B[38;5;241m.\u001B[39m__signature__ \u001B[38;5;241m=\u001B[39m ClassAttribute(\u001B[38;5;124m'\u001B[39m\u001B[38;5;124m__signature__\u001B[39m\u001B[38;5;124m'\u001B[39m, generate_model_signature(\u001B[38;5;28mcls\u001B[39m\u001B[38;5;241m.\u001B[39m\u001B[38;5;21m__init__\u001B[39m, fields, config))\n\u001B[1;32m    285\u001B[0m \u001B[38;5;28;01mif\u001B[39;00m resolve_forward_refs:\n\u001B[0;32m--> 286\u001B[0m     \u001B[38;5;28mcls\u001B[39m\u001B[38;5;241m.\u001B[39m__try_update_forward_refs__()\n\u001B[1;32m    288\u001B[0m \u001B[38;5;66;03m# preserve `__set_name__` protocol defined in https://peps.python.org/pep-0487\u001B[39;00m\n\u001B[1;32m    289\u001B[0m \u001B[38;5;66;03m# for attributes not in `new_namespace` (e.g. private attributes)\u001B[39;00m\n\u001B[1;32m    290\u001B[0m \u001B[38;5;28;01mfor\u001B[39;00m name, obj \u001B[38;5;129;01min\u001B[39;00m namespace\u001B[38;5;241m.\u001B[39mitems():\n",
      "File \u001B[0;32m/opt/anaconda3/lib/python3.12/site-packages/pydantic/main.py:808\u001B[0m, in \u001B[0;36mBaseModel.__try_update_forward_refs__\u001B[0;34m(cls, **localns)\u001B[0m\n\u001B[1;32m    802\u001B[0m \u001B[38;5;129m@classmethod\u001B[39m\n\u001B[1;32m    803\u001B[0m \u001B[38;5;28;01mdef\u001B[39;00m \u001B[38;5;21m__try_update_forward_refs__\u001B[39m(\u001B[38;5;28mcls\u001B[39m, \u001B[38;5;241m*\u001B[39m\u001B[38;5;241m*\u001B[39mlocalns: Any) \u001B[38;5;241m-\u001B[39m\u001B[38;5;241m>\u001B[39m \u001B[38;5;28;01mNone\u001B[39;00m:\n\u001B[1;32m    804\u001B[0m \u001B[38;5;250m    \u001B[39m\u001B[38;5;124;03m\"\"\"\u001B[39;00m\n\u001B[1;32m    805\u001B[0m \u001B[38;5;124;03m    Same as update_forward_refs but will not raise exception\u001B[39;00m\n\u001B[1;32m    806\u001B[0m \u001B[38;5;124;03m    when forward references are not defined.\u001B[39;00m\n\u001B[1;32m    807\u001B[0m \u001B[38;5;124;03m    \"\"\"\u001B[39;00m\n\u001B[0;32m--> 808\u001B[0m     update_model_forward_refs(\u001B[38;5;28mcls\u001B[39m, \u001B[38;5;28mcls\u001B[39m\u001B[38;5;241m.\u001B[39m__fields__\u001B[38;5;241m.\u001B[39mvalues(), \u001B[38;5;28mcls\u001B[39m\u001B[38;5;241m.\u001B[39m__config__\u001B[38;5;241m.\u001B[39mjson_encoders, localns, (\u001B[38;5;167;01mNameError\u001B[39;00m,))\n",
      "File \u001B[0;32m/opt/anaconda3/lib/python3.12/site-packages/pydantic/typing.py:554\u001B[0m, in \u001B[0;36mupdate_model_forward_refs\u001B[0;34m(model, fields, json_encoders, localns, exc_to_suppress)\u001B[0m\n\u001B[1;32m    552\u001B[0m \u001B[38;5;28;01mfor\u001B[39;00m f \u001B[38;5;129;01min\u001B[39;00m fields:\n\u001B[1;32m    553\u001B[0m     \u001B[38;5;28;01mtry\u001B[39;00m:\n\u001B[0;32m--> 554\u001B[0m         update_field_forward_refs(f, globalns\u001B[38;5;241m=\u001B[39mglobalns, localns\u001B[38;5;241m=\u001B[39mlocalns)\n\u001B[1;32m    555\u001B[0m     \u001B[38;5;28;01mexcept\u001B[39;00m exc_to_suppress:\n\u001B[1;32m    556\u001B[0m         \u001B[38;5;28;01mpass\u001B[39;00m\n",
      "File \u001B[0;32m/opt/anaconda3/lib/python3.12/site-packages/pydantic/typing.py:529\u001B[0m, in \u001B[0;36mupdate_field_forward_refs\u001B[0;34m(field, globalns, localns)\u001B[0m\n\u001B[1;32m    527\u001B[0m \u001B[38;5;28;01mif\u001B[39;00m field\u001B[38;5;241m.\u001B[39msub_fields:\n\u001B[1;32m    528\u001B[0m     \u001B[38;5;28;01mfor\u001B[39;00m sub_f \u001B[38;5;129;01min\u001B[39;00m field\u001B[38;5;241m.\u001B[39msub_fields:\n\u001B[0;32m--> 529\u001B[0m         update_field_forward_refs(sub_f, globalns\u001B[38;5;241m=\u001B[39mglobalns, localns\u001B[38;5;241m=\u001B[39mlocalns)\n\u001B[1;32m    531\u001B[0m \u001B[38;5;28;01mif\u001B[39;00m field\u001B[38;5;241m.\u001B[39mdiscriminator_key \u001B[38;5;129;01mis\u001B[39;00m \u001B[38;5;129;01mnot\u001B[39;00m \u001B[38;5;28;01mNone\u001B[39;00m:\n\u001B[1;32m    532\u001B[0m     field\u001B[38;5;241m.\u001B[39mprepare_discriminated_union_sub_fields()\n",
      "File \u001B[0;32m/opt/anaconda3/lib/python3.12/site-packages/pydantic/typing.py:520\u001B[0m, in \u001B[0;36mupdate_field_forward_refs\u001B[0;34m(field, globalns, localns)\u001B[0m\n\u001B[1;32m    518\u001B[0m \u001B[38;5;28;01mif\u001B[39;00m field\u001B[38;5;241m.\u001B[39mtype_\u001B[38;5;241m.\u001B[39m\u001B[38;5;18m__class__\u001B[39m \u001B[38;5;241m==\u001B[39m ForwardRef:\n\u001B[1;32m    519\u001B[0m     prepare \u001B[38;5;241m=\u001B[39m \u001B[38;5;28;01mTrue\u001B[39;00m\n\u001B[0;32m--> 520\u001B[0m     field\u001B[38;5;241m.\u001B[39mtype_ \u001B[38;5;241m=\u001B[39m evaluate_forwardref(field\u001B[38;5;241m.\u001B[39mtype_, globalns, localns \u001B[38;5;129;01mor\u001B[39;00m \u001B[38;5;28;01mNone\u001B[39;00m)\n\u001B[1;32m    521\u001B[0m \u001B[38;5;28;01mif\u001B[39;00m field\u001B[38;5;241m.\u001B[39mouter_type_\u001B[38;5;241m.\u001B[39m\u001B[38;5;18m__class__\u001B[39m \u001B[38;5;241m==\u001B[39m ForwardRef:\n\u001B[1;32m    522\u001B[0m     prepare \u001B[38;5;241m=\u001B[39m \u001B[38;5;28;01mTrue\u001B[39;00m\n",
      "File \u001B[0;32m/opt/anaconda3/lib/python3.12/site-packages/pydantic/typing.py:66\u001B[0m, in \u001B[0;36mevaluate_forwardref\u001B[0;34m(type_, globalns, localns)\u001B[0m\n\u001B[1;32m     63\u001B[0m \u001B[38;5;28;01mdef\u001B[39;00m \u001B[38;5;21mevaluate_forwardref\u001B[39m(type_: ForwardRef, globalns: Any, localns: Any) \u001B[38;5;241m-\u001B[39m\u001B[38;5;241m>\u001B[39m Any:\n\u001B[1;32m     64\u001B[0m     \u001B[38;5;66;03m# Even though it is the right signature for python 3.9, mypy complains with\u001B[39;00m\n\u001B[1;32m     65\u001B[0m     \u001B[38;5;66;03m# `error: Too many arguments for \"_evaluate\" of \"ForwardRef\"` hence the cast...\u001B[39;00m\n\u001B[0;32m---> 66\u001B[0m     \u001B[38;5;28;01mreturn\u001B[39;00m cast(Any, type_)\u001B[38;5;241m.\u001B[39m_evaluate(globalns, localns, \u001B[38;5;28mset\u001B[39m())\n",
      "\u001B[0;31mTypeError\u001B[0m: ForwardRef._evaluate() missing 1 required keyword-only argument: 'recursive_guard'"
     ]
    }
   ],
   "execution_count": 4
  },
  {
   "metadata": {
    "ExecuteTime": {
     "end_time": "2025-01-30T23:47:46.062321Z",
     "start_time": "2025-01-30T23:47:44.710007Z"
    }
   },
   "cell_type": "code",
   "source": [
    "import spacy\n",
    "import pydantic\n",
    "print(\"spaCy version:\", spacy.__version__)\n",
    "print(\"pydantic version:\", pydantic.__version__)"
   ],
   "id": "c3432490594c0038",
   "outputs": [
    {
     "ename": "TypeError",
     "evalue": "ForwardRef._evaluate() missing 1 required keyword-only argument: 'recursive_guard'",
     "output_type": "error",
     "traceback": [
      "\u001B[0;31m---------------------------------------------------------------------------\u001B[0m",
      "\u001B[0;31mTypeError\u001B[0m                                 Traceback (most recent call last)",
      "Cell \u001B[0;32mIn[5], line 1\u001B[0m\n\u001B[0;32m----> 1\u001B[0m \u001B[38;5;28;01mimport\u001B[39;00m \u001B[38;5;21;01mspacy\u001B[39;00m\n\u001B[1;32m      2\u001B[0m \u001B[38;5;28;01mimport\u001B[39;00m \u001B[38;5;21;01mpydantic\u001B[39;00m\n\u001B[1;32m      3\u001B[0m \u001B[38;5;28mprint\u001B[39m(\u001B[38;5;124m\"\u001B[39m\u001B[38;5;124mspaCy version:\u001B[39m\u001B[38;5;124m\"\u001B[39m, spacy\u001B[38;5;241m.\u001B[39m__version__)\n",
      "File \u001B[0;32m/opt/anaconda3/lib/python3.12/site-packages/spacy/__init__.py:13\u001B[0m\n\u001B[1;32m     10\u001B[0m \u001B[38;5;66;03m# These are imported as part of the API\u001B[39;00m\n\u001B[1;32m     11\u001B[0m \u001B[38;5;28;01mfrom\u001B[39;00m \u001B[38;5;21;01mthinc\u001B[39;00m\u001B[38;5;21;01m.\u001B[39;00m\u001B[38;5;21;01mapi\u001B[39;00m \u001B[38;5;28;01mimport\u001B[39;00m Config, prefer_gpu, require_cpu, require_gpu  \u001B[38;5;66;03m# noqa: F401\u001B[39;00m\n\u001B[0;32m---> 13\u001B[0m \u001B[38;5;28;01mfrom\u001B[39;00m \u001B[38;5;21;01m.\u001B[39;00m \u001B[38;5;28;01mimport\u001B[39;00m pipeline  \u001B[38;5;66;03m# noqa: F401\u001B[39;00m\n\u001B[1;32m     14\u001B[0m \u001B[38;5;28;01mfrom\u001B[39;00m \u001B[38;5;21;01m.\u001B[39;00m \u001B[38;5;28;01mimport\u001B[39;00m util\n\u001B[1;32m     15\u001B[0m \u001B[38;5;28;01mfrom\u001B[39;00m \u001B[38;5;21;01m.\u001B[39;00m\u001B[38;5;21;01mabout\u001B[39;00m \u001B[38;5;28;01mimport\u001B[39;00m __version__  \u001B[38;5;66;03m# noqa: F401\u001B[39;00m\n",
      "File \u001B[0;32m/opt/anaconda3/lib/python3.12/site-packages/spacy/pipeline/__init__.py:1\u001B[0m\n\u001B[0;32m----> 1\u001B[0m \u001B[38;5;28;01mfrom\u001B[39;00m \u001B[38;5;21;01m.\u001B[39;00m\u001B[38;5;21;01mattributeruler\u001B[39;00m \u001B[38;5;28;01mimport\u001B[39;00m AttributeRuler\n\u001B[1;32m      2\u001B[0m \u001B[38;5;28;01mfrom\u001B[39;00m \u001B[38;5;21;01m.\u001B[39;00m\u001B[38;5;21;01mdep_parser\u001B[39;00m \u001B[38;5;28;01mimport\u001B[39;00m DependencyParser\n\u001B[1;32m      3\u001B[0m \u001B[38;5;28;01mfrom\u001B[39;00m \u001B[38;5;21;01m.\u001B[39;00m\u001B[38;5;21;01medit_tree_lemmatizer\u001B[39;00m \u001B[38;5;28;01mimport\u001B[39;00m EditTreeLemmatizer\n",
      "File \u001B[0;32m/opt/anaconda3/lib/python3.12/site-packages/spacy/pipeline/attributeruler.py:8\u001B[0m\n\u001B[1;32m      6\u001B[0m \u001B[38;5;28;01mfrom\u001B[39;00m \u001B[38;5;21;01m.\u001B[39;00m\u001B[38;5;21;01m.\u001B[39;00m \u001B[38;5;28;01mimport\u001B[39;00m util\n\u001B[1;32m      7\u001B[0m \u001B[38;5;28;01mfrom\u001B[39;00m \u001B[38;5;21;01m.\u001B[39;00m\u001B[38;5;21;01m.\u001B[39;00m\u001B[38;5;21;01merrors\u001B[39;00m \u001B[38;5;28;01mimport\u001B[39;00m Errors\n\u001B[0;32m----> 8\u001B[0m \u001B[38;5;28;01mfrom\u001B[39;00m \u001B[38;5;21;01m.\u001B[39;00m\u001B[38;5;21;01m.\u001B[39;00m\u001B[38;5;21;01mlanguage\u001B[39;00m \u001B[38;5;28;01mimport\u001B[39;00m Language\n\u001B[1;32m      9\u001B[0m \u001B[38;5;28;01mfrom\u001B[39;00m \u001B[38;5;21;01m.\u001B[39;00m\u001B[38;5;21;01m.\u001B[39;00m\u001B[38;5;21;01mmatcher\u001B[39;00m \u001B[38;5;28;01mimport\u001B[39;00m Matcher\n\u001B[1;32m     10\u001B[0m \u001B[38;5;28;01mfrom\u001B[39;00m \u001B[38;5;21;01m.\u001B[39;00m\u001B[38;5;21;01m.\u001B[39;00m\u001B[38;5;21;01mscorer\u001B[39;00m \u001B[38;5;28;01mimport\u001B[39;00m Scorer\n",
      "File \u001B[0;32m/opt/anaconda3/lib/python3.12/site-packages/spacy/language.py:43\u001B[0m\n\u001B[1;32m     41\u001B[0m \u001B[38;5;28;01mfrom\u001B[39;00m \u001B[38;5;21;01m.\u001B[39;00m\u001B[38;5;21;01mlang\u001B[39;00m\u001B[38;5;21;01m.\u001B[39;00m\u001B[38;5;21;01mtokenizer_exceptions\u001B[39;00m \u001B[38;5;28;01mimport\u001B[39;00m BASE_EXCEPTIONS, URL_MATCH\n\u001B[1;32m     42\u001B[0m \u001B[38;5;28;01mfrom\u001B[39;00m \u001B[38;5;21;01m.\u001B[39;00m\u001B[38;5;21;01mlookups\u001B[39;00m \u001B[38;5;28;01mimport\u001B[39;00m load_lookups\n\u001B[0;32m---> 43\u001B[0m \u001B[38;5;28;01mfrom\u001B[39;00m \u001B[38;5;21;01m.\u001B[39;00m\u001B[38;5;21;01mpipe_analysis\u001B[39;00m \u001B[38;5;28;01mimport\u001B[39;00m analyze_pipes, print_pipe_analysis, validate_attrs\n\u001B[1;32m     44\u001B[0m \u001B[38;5;28;01mfrom\u001B[39;00m \u001B[38;5;21;01m.\u001B[39;00m\u001B[38;5;21;01mschemas\u001B[39;00m \u001B[38;5;28;01mimport\u001B[39;00m (\n\u001B[1;32m     45\u001B[0m     ConfigSchema,\n\u001B[1;32m     46\u001B[0m     ConfigSchemaInit,\n\u001B[0;32m   (...)\u001B[0m\n\u001B[1;32m     49\u001B[0m     validate_init_settings,\n\u001B[1;32m     50\u001B[0m )\n\u001B[1;32m     51\u001B[0m \u001B[38;5;28;01mfrom\u001B[39;00m \u001B[38;5;21;01m.\u001B[39;00m\u001B[38;5;21;01mscorer\u001B[39;00m \u001B[38;5;28;01mimport\u001B[39;00m Scorer\n",
      "File \u001B[0;32m/opt/anaconda3/lib/python3.12/site-packages/spacy/pipe_analysis.py:6\u001B[0m\n\u001B[1;32m      3\u001B[0m \u001B[38;5;28;01mfrom\u001B[39;00m \u001B[38;5;21;01mwasabi\u001B[39;00m \u001B[38;5;28;01mimport\u001B[39;00m msg\n\u001B[1;32m      5\u001B[0m \u001B[38;5;28;01mfrom\u001B[39;00m \u001B[38;5;21;01m.\u001B[39;00m\u001B[38;5;21;01merrors\u001B[39;00m \u001B[38;5;28;01mimport\u001B[39;00m Errors\n\u001B[0;32m----> 6\u001B[0m \u001B[38;5;28;01mfrom\u001B[39;00m \u001B[38;5;21;01m.\u001B[39;00m\u001B[38;5;21;01mtokens\u001B[39;00m \u001B[38;5;28;01mimport\u001B[39;00m Doc, Span, Token\n\u001B[1;32m      7\u001B[0m \u001B[38;5;28;01mfrom\u001B[39;00m \u001B[38;5;21;01m.\u001B[39;00m\u001B[38;5;21;01mutil\u001B[39;00m \u001B[38;5;28;01mimport\u001B[39;00m dot_to_dict\n\u001B[1;32m      9\u001B[0m \u001B[38;5;28;01mif\u001B[39;00m TYPE_CHECKING:\n\u001B[1;32m     10\u001B[0m     \u001B[38;5;66;03m# This lets us add type hints for mypy etc. without causing circular imports\u001B[39;00m\n",
      "File \u001B[0;32m/opt/anaconda3/lib/python3.12/site-packages/spacy/tokens/__init__.py:1\u001B[0m\n\u001B[0;32m----> 1\u001B[0m \u001B[38;5;28;01mfrom\u001B[39;00m \u001B[38;5;21;01m.\u001B[39;00m\u001B[38;5;21;01m_serialize\u001B[39;00m \u001B[38;5;28;01mimport\u001B[39;00m DocBin\n\u001B[1;32m      2\u001B[0m \u001B[38;5;28;01mfrom\u001B[39;00m \u001B[38;5;21;01m.\u001B[39;00m\u001B[38;5;21;01mdoc\u001B[39;00m \u001B[38;5;28;01mimport\u001B[39;00m Doc\n\u001B[1;32m      3\u001B[0m \u001B[38;5;28;01mfrom\u001B[39;00m \u001B[38;5;21;01m.\u001B[39;00m\u001B[38;5;21;01mmorphanalysis\u001B[39;00m \u001B[38;5;28;01mimport\u001B[39;00m MorphAnalysis\n",
      "File \u001B[0;32m/opt/anaconda3/lib/python3.12/site-packages/spacy/tokens/_serialize.py:14\u001B[0m\n\u001B[1;32m     12\u001B[0m \u001B[38;5;28;01mfrom\u001B[39;00m \u001B[38;5;21;01m.\u001B[39;00m\u001B[38;5;21;01m.\u001B[39;00m\u001B[38;5;21;01merrors\u001B[39;00m \u001B[38;5;28;01mimport\u001B[39;00m Errors\n\u001B[1;32m     13\u001B[0m \u001B[38;5;28;01mfrom\u001B[39;00m \u001B[38;5;21;01m.\u001B[39;00m\u001B[38;5;21;01m.\u001B[39;00m\u001B[38;5;21;01mutil\u001B[39;00m \u001B[38;5;28;01mimport\u001B[39;00m SimpleFrozenList, ensure_path\n\u001B[0;32m---> 14\u001B[0m \u001B[38;5;28;01mfrom\u001B[39;00m \u001B[38;5;21;01m.\u001B[39;00m\u001B[38;5;21;01m.\u001B[39;00m\u001B[38;5;21;01mvocab\u001B[39;00m \u001B[38;5;28;01mimport\u001B[39;00m Vocab\n\u001B[1;32m     15\u001B[0m \u001B[38;5;28;01mfrom\u001B[39;00m \u001B[38;5;21;01m.\u001B[39;00m\u001B[38;5;21;01m_dict_proxies\u001B[39;00m \u001B[38;5;28;01mimport\u001B[39;00m SpanGroups\n\u001B[1;32m     16\u001B[0m \u001B[38;5;28;01mfrom\u001B[39;00m \u001B[38;5;21;01m.\u001B[39;00m\u001B[38;5;21;01mdoc\u001B[39;00m \u001B[38;5;28;01mimport\u001B[39;00m DOCBIN_ALL_ATTRS \u001B[38;5;28;01mas\u001B[39;00m ALL_ATTRS\n",
      "File \u001B[0;32m/opt/anaconda3/lib/python3.12/site-packages/spacy/vocab.pyx:1\u001B[0m, in \u001B[0;36minit spacy.vocab\u001B[0;34m()\u001B[0m\n",
      "File \u001B[0;32m/opt/anaconda3/lib/python3.12/site-packages/spacy/tokens/doc.pyx:49\u001B[0m, in \u001B[0;36minit spacy.tokens.doc\u001B[0;34m()\u001B[0m\n",
      "File \u001B[0;32m/opt/anaconda3/lib/python3.12/site-packages/spacy/schemas.py:195\u001B[0m\n\u001B[1;32m    191\u001B[0m         obj \u001B[38;5;241m=\u001B[39m converted\n\u001B[1;32m    192\u001B[0m     \u001B[38;5;28;01mreturn\u001B[39;00m validate(TokenPatternSchema, {\u001B[38;5;124m\"\u001B[39m\u001B[38;5;124mpattern\u001B[39m\u001B[38;5;124m\"\u001B[39m: obj})\n\u001B[0;32m--> 195\u001B[0m \u001B[38;5;28;01mclass\u001B[39;00m \u001B[38;5;21;01mTokenPatternString\u001B[39;00m(BaseModel):\n\u001B[1;32m    196\u001B[0m     REGEX: Optional[Union[StrictStr, \u001B[38;5;124m\"\u001B[39m\u001B[38;5;124mTokenPatternString\u001B[39m\u001B[38;5;124m\"\u001B[39m]] \u001B[38;5;241m=\u001B[39m Field(\u001B[38;5;28;01mNone\u001B[39;00m, alias\u001B[38;5;241m=\u001B[39m\u001B[38;5;124m\"\u001B[39m\u001B[38;5;124mregex\u001B[39m\u001B[38;5;124m\"\u001B[39m)\n\u001B[1;32m    197\u001B[0m     IN: Optional[List[StrictStr]] \u001B[38;5;241m=\u001B[39m Field(\u001B[38;5;28;01mNone\u001B[39;00m, alias\u001B[38;5;241m=\u001B[39m\u001B[38;5;124m\"\u001B[39m\u001B[38;5;124min\u001B[39m\u001B[38;5;124m\"\u001B[39m)\n",
      "File \u001B[0;32m/opt/anaconda3/lib/python3.12/site-packages/pydantic/main.py:286\u001B[0m, in \u001B[0;36mModelMetaclass.__new__\u001B[0;34m(mcs, name, bases, namespace, **kwargs)\u001B[0m\n\u001B[1;32m    284\u001B[0m \u001B[38;5;28mcls\u001B[39m\u001B[38;5;241m.\u001B[39m__signature__ \u001B[38;5;241m=\u001B[39m ClassAttribute(\u001B[38;5;124m'\u001B[39m\u001B[38;5;124m__signature__\u001B[39m\u001B[38;5;124m'\u001B[39m, generate_model_signature(\u001B[38;5;28mcls\u001B[39m\u001B[38;5;241m.\u001B[39m\u001B[38;5;21m__init__\u001B[39m, fields, config))\n\u001B[1;32m    285\u001B[0m \u001B[38;5;28;01mif\u001B[39;00m resolve_forward_refs:\n\u001B[0;32m--> 286\u001B[0m     \u001B[38;5;28mcls\u001B[39m\u001B[38;5;241m.\u001B[39m__try_update_forward_refs__()\n\u001B[1;32m    288\u001B[0m \u001B[38;5;66;03m# preserve `__set_name__` protocol defined in https://peps.python.org/pep-0487\u001B[39;00m\n\u001B[1;32m    289\u001B[0m \u001B[38;5;66;03m# for attributes not in `new_namespace` (e.g. private attributes)\u001B[39;00m\n\u001B[1;32m    290\u001B[0m \u001B[38;5;28;01mfor\u001B[39;00m name, obj \u001B[38;5;129;01min\u001B[39;00m namespace\u001B[38;5;241m.\u001B[39mitems():\n",
      "File \u001B[0;32m/opt/anaconda3/lib/python3.12/site-packages/pydantic/main.py:808\u001B[0m, in \u001B[0;36mBaseModel.__try_update_forward_refs__\u001B[0;34m(cls, **localns)\u001B[0m\n\u001B[1;32m    802\u001B[0m \u001B[38;5;129m@classmethod\u001B[39m\n\u001B[1;32m    803\u001B[0m \u001B[38;5;28;01mdef\u001B[39;00m \u001B[38;5;21m__try_update_forward_refs__\u001B[39m(\u001B[38;5;28mcls\u001B[39m, \u001B[38;5;241m*\u001B[39m\u001B[38;5;241m*\u001B[39mlocalns: Any) \u001B[38;5;241m-\u001B[39m\u001B[38;5;241m>\u001B[39m \u001B[38;5;28;01mNone\u001B[39;00m:\n\u001B[1;32m    804\u001B[0m \u001B[38;5;250m    \u001B[39m\u001B[38;5;124;03m\"\"\"\u001B[39;00m\n\u001B[1;32m    805\u001B[0m \u001B[38;5;124;03m    Same as update_forward_refs but will not raise exception\u001B[39;00m\n\u001B[1;32m    806\u001B[0m \u001B[38;5;124;03m    when forward references are not defined.\u001B[39;00m\n\u001B[1;32m    807\u001B[0m \u001B[38;5;124;03m    \"\"\"\u001B[39;00m\n\u001B[0;32m--> 808\u001B[0m     update_model_forward_refs(\u001B[38;5;28mcls\u001B[39m, \u001B[38;5;28mcls\u001B[39m\u001B[38;5;241m.\u001B[39m__fields__\u001B[38;5;241m.\u001B[39mvalues(), \u001B[38;5;28mcls\u001B[39m\u001B[38;5;241m.\u001B[39m__config__\u001B[38;5;241m.\u001B[39mjson_encoders, localns, (\u001B[38;5;167;01mNameError\u001B[39;00m,))\n",
      "File \u001B[0;32m/opt/anaconda3/lib/python3.12/site-packages/pydantic/typing.py:554\u001B[0m, in \u001B[0;36mupdate_model_forward_refs\u001B[0;34m(model, fields, json_encoders, localns, exc_to_suppress)\u001B[0m\n\u001B[1;32m    552\u001B[0m \u001B[38;5;28;01mfor\u001B[39;00m f \u001B[38;5;129;01min\u001B[39;00m fields:\n\u001B[1;32m    553\u001B[0m     \u001B[38;5;28;01mtry\u001B[39;00m:\n\u001B[0;32m--> 554\u001B[0m         update_field_forward_refs(f, globalns\u001B[38;5;241m=\u001B[39mglobalns, localns\u001B[38;5;241m=\u001B[39mlocalns)\n\u001B[1;32m    555\u001B[0m     \u001B[38;5;28;01mexcept\u001B[39;00m exc_to_suppress:\n\u001B[1;32m    556\u001B[0m         \u001B[38;5;28;01mpass\u001B[39;00m\n",
      "File \u001B[0;32m/opt/anaconda3/lib/python3.12/site-packages/pydantic/typing.py:529\u001B[0m, in \u001B[0;36mupdate_field_forward_refs\u001B[0;34m(field, globalns, localns)\u001B[0m\n\u001B[1;32m    527\u001B[0m \u001B[38;5;28;01mif\u001B[39;00m field\u001B[38;5;241m.\u001B[39msub_fields:\n\u001B[1;32m    528\u001B[0m     \u001B[38;5;28;01mfor\u001B[39;00m sub_f \u001B[38;5;129;01min\u001B[39;00m field\u001B[38;5;241m.\u001B[39msub_fields:\n\u001B[0;32m--> 529\u001B[0m         update_field_forward_refs(sub_f, globalns\u001B[38;5;241m=\u001B[39mglobalns, localns\u001B[38;5;241m=\u001B[39mlocalns)\n\u001B[1;32m    531\u001B[0m \u001B[38;5;28;01mif\u001B[39;00m field\u001B[38;5;241m.\u001B[39mdiscriminator_key \u001B[38;5;129;01mis\u001B[39;00m \u001B[38;5;129;01mnot\u001B[39;00m \u001B[38;5;28;01mNone\u001B[39;00m:\n\u001B[1;32m    532\u001B[0m     field\u001B[38;5;241m.\u001B[39mprepare_discriminated_union_sub_fields()\n",
      "File \u001B[0;32m/opt/anaconda3/lib/python3.12/site-packages/pydantic/typing.py:520\u001B[0m, in \u001B[0;36mupdate_field_forward_refs\u001B[0;34m(field, globalns, localns)\u001B[0m\n\u001B[1;32m    518\u001B[0m \u001B[38;5;28;01mif\u001B[39;00m field\u001B[38;5;241m.\u001B[39mtype_\u001B[38;5;241m.\u001B[39m\u001B[38;5;18m__class__\u001B[39m \u001B[38;5;241m==\u001B[39m ForwardRef:\n\u001B[1;32m    519\u001B[0m     prepare \u001B[38;5;241m=\u001B[39m \u001B[38;5;28;01mTrue\u001B[39;00m\n\u001B[0;32m--> 520\u001B[0m     field\u001B[38;5;241m.\u001B[39mtype_ \u001B[38;5;241m=\u001B[39m evaluate_forwardref(field\u001B[38;5;241m.\u001B[39mtype_, globalns, localns \u001B[38;5;129;01mor\u001B[39;00m \u001B[38;5;28;01mNone\u001B[39;00m)\n\u001B[1;32m    521\u001B[0m \u001B[38;5;28;01mif\u001B[39;00m field\u001B[38;5;241m.\u001B[39mouter_type_\u001B[38;5;241m.\u001B[39m\u001B[38;5;18m__class__\u001B[39m \u001B[38;5;241m==\u001B[39m ForwardRef:\n\u001B[1;32m    522\u001B[0m     prepare \u001B[38;5;241m=\u001B[39m \u001B[38;5;28;01mTrue\u001B[39;00m\n",
      "File \u001B[0;32m/opt/anaconda3/lib/python3.12/site-packages/pydantic/typing.py:66\u001B[0m, in \u001B[0;36mevaluate_forwardref\u001B[0;34m(type_, globalns, localns)\u001B[0m\n\u001B[1;32m     63\u001B[0m \u001B[38;5;28;01mdef\u001B[39;00m \u001B[38;5;21mevaluate_forwardref\u001B[39m(type_: ForwardRef, globalns: Any, localns: Any) \u001B[38;5;241m-\u001B[39m\u001B[38;5;241m>\u001B[39m Any:\n\u001B[1;32m     64\u001B[0m     \u001B[38;5;66;03m# Even though it is the right signature for python 3.9, mypy complains with\u001B[39;00m\n\u001B[1;32m     65\u001B[0m     \u001B[38;5;66;03m# `error: Too many arguments for \"_evaluate\" of \"ForwardRef\"` hence the cast...\u001B[39;00m\n\u001B[0;32m---> 66\u001B[0m     \u001B[38;5;28;01mreturn\u001B[39;00m cast(Any, type_)\u001B[38;5;241m.\u001B[39m_evaluate(globalns, localns, \u001B[38;5;28mset\u001B[39m())\n",
      "\u001B[0;31mTypeError\u001B[0m: ForwardRef._evaluate() missing 1 required keyword-only argument: 'recursive_guard'"
     ]
    }
   ],
   "execution_count": 5
  },
  {
   "metadata": {},
   "cell_type": "markdown",
   "source": "## Text Preprocessing",
   "id": "ea6cda6c13203b04"
  },
  {
   "metadata": {},
   "cell_type": "code",
   "outputs": [],
   "execution_count": null,
   "source": [
    "def preprocess_text(text):\n",
    "    # Load spaCy model\n",
    "    nlp = spacy.load(\"en_core_web_sm\")\n",
    "\n",
    "    # Tokenize and remove stopwords\n",
    "    doc = nlp(text)\n",
    "    tokens = [token.text for token in doc if not token.is_stop and not token.is_punct]\n",
    "\n",
    "    return tokens"
   ],
   "id": "6d7857fad60e6e5d"
  },
  {
   "metadata": {},
   "cell_type": "markdown",
   "source": "## Keyword Extraction",
   "id": "d44c3ed85b793dc0"
  },
  {
   "metadata": {},
   "cell_type": "code",
   "outputs": [],
   "execution_count": null,
   "source": [
    "def extract_keywords(tokens, top_n=10):\n",
    "    # Count word frequencies\n",
    "    word_freq = Counter(tokens)\n",
    "\n",
    "    # Get the most common words\n",
    "    keywords = word_freq.most_common(top_n)\n",
    "\n",
    "    return keywords"
   ],
   "id": "b6a7c9efc344fcdc"
  },
  {
   "metadata": {},
   "cell_type": "markdown",
   "source": "## Summarization",
   "id": "464e35c6849eece0"
  },
  {
   "metadata": {},
   "cell_type": "code",
   "outputs": [],
   "execution_count": null,
   "source": [
    "def summarize_text(text, sentences_count=3):\n",
    "    # Create a parser and tokenizer\n",
    "    parser = PlaintextParser.from_string(text, Tokenizer(\"english\"))\n",
    "\n",
    "    # Use LSA Summarizer\n",
    "    summarizer = LsaSummarizer()\n",
    "    summary = summarizer(parser.document, sentences_count)\n",
    "\n",
    "    return ' '.join([str(sentence) for sentence in summary])"
   ],
   "id": "a2030b7a747e1935"
  },
  {
   "metadata": {},
   "cell_type": "markdown",
   "source": "## Putting It All Together",
   "id": "3d1d70315e280530"
  },
  {
   "metadata": {},
   "cell_type": "code",
   "outputs": [],
   "execution_count": null,
   "source": [
    "def summarize_job_description(jd_text):\n",
    "    # Preprocess the text\n",
    "    tokens = preprocess_text(jd_text)\n",
    "\n",
    "    # Extract keywords\n",
    "    keywords = extract_keywords(tokens)\n",
    "\n",
    "    # Summarize the text\n",
    "    summary = summarize_text(jd_text)\n",
    "\n",
    "    return {\n",
    "        \"keywords\": keywords,\n",
    "        \"summary\": summary\n",
    "    }"
   ],
   "id": "65e172b1cba55620"
  },
  {
   "metadata": {},
   "cell_type": "markdown",
   "source": "## Example Usage",
   "id": "34e8afb1ab1a4683"
  },
  {
   "metadata": {},
   "cell_type": "code",
   "outputs": [],
   "execution_count": null,
   "source": [
    "job_description = \"\"\"\n",
    "We are looking for a Python Developer to join our team. The ideal candidate should have experience with Python, Django, and Flask.\n",
    "Responsibilities include developing and maintaining web applications, writing clean and scalable code, and collaborating with cross-functional teams.\n",
    "The candidate should have a strong understanding of software development principles and be able to work in an agile environment.\n",
    "Experience with REST APIs, databases, and version control systems like Git is a plus.\n",
    "\"\"\"\n",
    "\n",
    "result = summarize_job_description(job_description)\n",
    "print(\"Keywords:\", result[\"keywords\"])\n",
    "print(\"Summary:\", result[\"summary\"])"
   ],
   "id": "1cac6ffd8e99af9a"
  }
 ],
 "metadata": {
  "kernelspec": {
   "display_name": "Python 3",
   "language": "python",
   "name": "python3"
  },
  "language_info": {
   "codemirror_mode": {
    "name": "ipython",
    "version": 2
   },
   "file_extension": ".py",
   "mimetype": "text/x-python",
   "name": "python",
   "nbconvert_exporter": "python",
   "pygments_lexer": "ipython2",
   "version": "2.7.6"
  }
 },
 "nbformat": 4,
 "nbformat_minor": 5
}
