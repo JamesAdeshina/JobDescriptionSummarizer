{
 "cells": [
  {
   "metadata": {},
   "cell_type": "markdown",
   "source": "# Job Description (JD) Summarizer",
   "id": "48ebef71d7747c6c"
  },
  {
   "metadata": {},
   "cell_type": "markdown",
   "source": "## Install Required Libraries",
   "id": "c507460acd3c1cba"
  },
  {
   "cell_type": "code",
   "id": "initial_id",
   "metadata": {
    "collapsed": true
   },
   "source": [
    "# Install required libraries\n",
    "\n",
    "!pip install nltk spacy sumy rake-nltk\n",
    "!python -m spacy download en_core_web_sm\n",
    "!pip uninstall -y spacy pydantic"
   ],
   "outputs": [],
   "execution_count": null
  },
  {
   "metadata": {},
   "cell_type": "code",
   "source": [
    "!pip install spacy pydantic==1.10.13\n",
    "!python -m spacy download en_core_web_sm\n"
   ],
   "id": "15894e292906303c",
   "outputs": [],
   "execution_count": null
  },
  {
   "metadata": {},
   "cell_type": "code",
   "source": [
    "# Import libraries\n",
    "import nltk\n",
    "import spacy\n",
    "from sumy.parsers.plaintext import PlaintextParser\n",
    "from sumy.nlp.tokenizers import Tokenizer\n",
    "from sumy.summarizers.lsa import LsaSummarizer\n",
    "from sumy.summarizers.text_rank import TextRankSummarizer\n",
    "from collections import Counter\n",
    "from rake_nltk import Rake\n",
    "import re\n",
    "print(f\"spaCy version: {spacy.__version__}\")\n"
   ],
   "id": "82ef050fded93d1c",
   "outputs": [],
   "execution_count": null
  },
  {
   "metadata": {},
   "cell_type": "code",
   "source": [
    "# Then test pydantic import\n",
    "import pydantic\n",
    "print(f\"pydantic version: {pydantic.__version__}\")"
   ],
   "id": "2933a7b20a3f5588",
   "outputs": [],
   "execution_count": null
  },
  {
   "metadata": {},
   "cell_type": "code",
   "source": [
    "# Load the spaCy model\n",
    "nlp = spacy.load('en_core_web_sm')"
   ],
   "id": "86ee3344d6069697",
   "outputs": [],
   "execution_count": null
  },
  {
   "metadata": {},
   "cell_type": "markdown",
   "source": "## Import Libraries",
   "id": "d06c4167ed29c15d"
  },
  {
   "metadata": {},
   "cell_type": "code",
   "source": [
    "import nltk\n",
    "import spacy\n",
    "from sumy.parsers.plaintext import PlaintextParser\n",
    "from sumy.nlp.tokenizers import Tokenizer\n",
    "from sumy.summarizers.lsa import LsaSummarizer\n",
    "from collections import Counter\n",
    "\n",
    "# Download NLTK data\n",
    "nltk.download('punkt')\n",
    "nltk.download('stopwords')"
   ],
   "id": "cc14ffe63cff0fbe",
   "outputs": [],
   "execution_count": null
  },
  {
   "metadata": {},
   "cell_type": "code",
   "source": [
    "import spacy\n",
    "import pydantic\n",
    "print(\"spaCy version:\", spacy.__version__)\n",
    "print(\"pydantic version:\", pydantic.__version__)"
   ],
   "id": "c3432490594c0038",
   "outputs": [],
   "execution_count": null
  },
  {
   "metadata": {},
   "cell_type": "markdown",
   "source": "## Text Preprocessing",
   "id": "ea6cda6c13203b04"
  },
  {
   "metadata": {},
   "cell_type": "code",
   "source": [
    "# Text preprocessing\n",
    "def preprocess_text(text):\n",
    "    # Load spaCy model\n",
    "    nlp = spacy.load(\"en_core_web_sm\")\n",
    "\n",
    "    # Tokenize, remove stopwords, and lemmatize\n",
    "    doc = nlp(text)\n",
    "    tokens = [token.lemma_ for token in doc if not token.is_stop and not token.is_punct and token.is_alpha]\n",
    "\n",
    "    return tokens"
   ],
   "id": "6d7857fad60e6e5d",
   "outputs": [],
   "execution_count": null
  },
  {
   "metadata": {},
   "cell_type": "markdown",
   "source": "## Keyword Extraction",
   "id": "d44c3ed85b793dc0"
  },
  {
   "metadata": {},
   "cell_type": "code",
   "source": [
    "# Keyword extraction using RAKE\n",
    "def extract_keywords(text, top_n=10):\n",
    "    rake = Rake()\n",
    "    rake.extract_keywords_from_text(text)\n",
    "    ranked_phrases = rake.get_ranked_phrases()[:top_n]\n",
    "    return ranked_phrases\n"
   ],
   "id": "b6a7c9efc344fcdc",
   "outputs": [],
   "execution_count": null
  },
  {
   "metadata": {},
   "cell_type": "code",
   "source": [
    "\n",
    "def extract_entities(text):\n",
    "    doc = nlp(text)\n",
    "    entities = {\n",
    "        \"ORG\": [],  # Organizations (e.g., Spencer Academies Trust)\n",
    "        \"GPE\": [],  # Geographical locations (e.g., Nottingham, United Kingdom)\n",
    "        \"DATE\": [],  # Dates (e.g., 9th June 2025)\n",
    "        \"MONEY\": [],  # Monetary values (e.g., £425 per week)\n",
    "    }\n",
    "    for ent in doc.ents:\n",
    "        if ent.label_ in entities:\n",
    "            entities[ent.label_].append(ent.text)\n",
    "    return entities"
   ],
   "id": "5e33719050cc5a00",
   "outputs": [],
   "execution_count": null
  },
  {
   "metadata": {},
   "cell_type": "markdown",
   "source": "## Summarization",
   "id": "464e35c6849eece0"
  },
  {
   "metadata": {},
   "cell_type": "code",
   "source": [
    "def summarize_text(text):\n",
    "    parser = PlaintextParser.from_string(text, Tokenizer(\"english\"))\n",
    "    summarizer = TextRankSummarizer()\n",
    "    # Adjust sentence count based on text length\n",
    "    sentences_count = max(2, min(5, len(text.split(\".\")) // 10))\n",
    "    summary = summarizer(parser.document, sentences_count)\n",
    "    return ' '.join([str(sentence) for sentence in summary])"
   ],
   "id": "a2030b7a747e1935",
   "outputs": [],
   "execution_count": null
  },
  {
   "metadata": {},
   "cell_type": "markdown",
   "source": "## Putting It All Together",
   "id": "3d1d70315e280530"
  },
  {
   "metadata": {},
   "cell_type": "code",
   "source": [
    "# Putting it all together\n",
    "def summarize_job_description(jd_text):\n",
    "    # Preprocess the text\n",
    "    tokens = preprocess_text(jd_text)\n",
    "\n",
    "    # Extract keywords\n",
    "    keywords = extract_keywords(jd_text)\n",
    "\n",
    "    # Extract keywords\n",
    "    entities = extract_entities(jd_text)\n",
    "\n",
    "    # Summarize the text\n",
    "    summary = summarize_text(jd_text)\n",
    "\n",
    "    return {\n",
    "        \"keywords\": keywords,\n",
    "        \"entities\": entities,\n",
    "        \"summary\": summary\n",
    "    }"
   ],
   "id": "65e172b1cba55620",
   "outputs": [],
   "execution_count": null
  },
  {
   "metadata": {},
   "cell_type": "markdown",
   "source": "## Example Usage",
   "id": "34e8afb1ab1a4683"
  },
  {
   "metadata": {},
   "cell_type": "code",
   "source": [
    "job_description = \"\"\"\n",
    "We are looking for a Python Developer to join our team. The ideal candidate should have experience with Python, Django, and Flask.\n",
    "Responsibilities include developing and maintaining web applications, writing clean and scalable code, and collaborating with cross-functional teams.\n",
    "The candidate should have a strong understanding of software development principles and be able to work in an agile environment.\n",
    "Experience with REST APIs, databases, and version control systems like Git is a plus.\n",
    "\"\"\"\n",
    "\n",
    "result = summarize_job_description(job_description)\n",
    "print(\"Keywords:\", result[\"keywords\"])\n",
    "print(\"Entities:\", result[\"entities\"])\n",
    "print(\"Summary:\", result[\"summary\"])"
   ],
   "id": "1cac6ffd8e99af9a",
   "outputs": [],
   "execution_count": null
  },
  {
   "metadata": {},
   "cell_type": "code",
   "source": [
    "job_description = \"\"\"\n",
    "UniHub UniHub Dashboard James Notifications0 Spencer Academies Trust Nottingham, East Midlands, United Kingdom 1 job Teaching Intern United Kingdom £425 per week for full attendance & participation Full-time, Temporary Teaching Internship Programme takes place in Spencer Academies Trust schools across Nottinghamshire and Derbyshire. You will gain an insight into the life of a teacher and participate in training sessions. Applications close on 9 Feb 2025 Job details Teaching Internship Programme takes place in Spencer Academies Trust schools across Nottinghamshire and Derbyshire. You will gain an insight into the life of a teacher and participate in training sessions. Subjects: Maths Physics Chemistry Computing MFL. On the programme you will gain in-school experience, learn about the life of a teacher, support pupils in the classroom, shadow experienced teachers, discover the routes into teaching and participate in teaching. Eligibility You must be an undergraduate or master’s student, studying in a UK university, who is considering a career in teaching. The programme lasts for 3 weeks, 9th to 27th June 2025. You'll receive personalised post-programme support to assist you with getting into a career in teaching. More info Job types Graduate job Internship Expected commencement 9th June 2024 Posted 7 Nov 2024 Applications close on 9 Feb 2025 More jobs Independent Advisory Group – Volunteer – Derbyshire Derbyshire Constabulary Derbyshire, England, United Kingdom Youth Work Volunteer Safe and Sound Group First Floor East Mill, Darley Abbey Mills, Darley Abbey., Derby, Derbyshire, England, DE22 1DZ, United Kingdom Awareness Volunteer Safe and Sound Group First Floor East Mill, Darley Abbey Mills, Darley Abbey, Derby, Derbyshire, England, DE22 1DZ, United Kingdom\n",
    "\"\"\"\n",
    "\n",
    "result = summarize_job_description(job_description)\n",
    "print(\"Keywords:\", result[\"keywords\"])\n",
    "print(\"Entities:\", result[\"entities\"])\n",
    "print(\"Summary:\", result[\"summary\"])"
   ],
   "id": "688718be7b120c71",
   "outputs": [],
   "execution_count": null
  },
  {
   "metadata": {},
   "cell_type": "code",
   "source": [
    "job_description = \"\"\"\n",
    "Researcher The Lullaby Trust Remote £10,000 per year Part-time (2 days per week (can be worked flexibly).) Contract (Fixed term for 6 months) Actively Interviewing This is a preview of your upcoming ad, it's not yet visible to candidates. The ad will be posted on 04 February 2025. Quick Apply Save Job description The main function of this role will be: Review The Lullaby Trust’s current Evidence Base. Create a revised Evidence Base including the production of plain language versions for each topic. Work with our designer to create final accessible PDF copies for each topic. Develop a standard operating procedure for updating the Evidence Base in future. Job Description Review The Lullaby Trust’s current Evidence Base. The Lullaby Trust’s guidance is constantly evolving as new evidence emerges on preventing unexpected infant deaths. However, much of our guidance, such as our Back to Sleep messaging, is based on an established and agreed body of evidence. The post holder will be required to undertake a narrative systematic review of the literature to create an updated Evidence Base for each aspect of The Lullaby Trust’s guidance, referencing established research and any relevant updated evidence. Ideally, papers would need to be readily available via open access to assist The Lullaby Trust staff with supporting research enquiries. It is important to note that whilst some of our guidance is based on direct evidence, some is indirect i.e. advising against using certain products due to association with other evidence-based guidance; therefore, the post holder should have a sound understanding of SIDS and unexpected infant death research to be able to demonstrate this link concisely. Current topics covered by our guidance and evidence include: Sleeping position Clear cot Room temperature Bedding Twins and multiples Smoking Alcohol and drug use Breastfeeding Airways Co-sleeping/bedsharing Products; slings, dummies, baby monitors Car seats Infection and immunisations Premature babies Poor antenatal care Swaddling Young parents Normal baby sleep Impact of deprivation Create a revised Evidence Base including the production of plain language versions for each topic. The Lullaby Trust’s current Evidence Base is an extensive document. This project aims to make the Evidence Base more accessible and easier to update. We envisage that each topic currently covered in the Evidence Base will have a fully referenced version and a plain language version to enable them to be understood and used by a variety of service users, including health professionals and parents or carers. On completion, the Evidence Base and its derivatives will remain the sole property of The Lullaby Trust, however the post holder will be credited and there is scope for the post holder to publish an academic paper based on the project. Work with our designer to create final accessible PDF copies for each topic. The post holder will need to support in the design of easily accessible PDF versions of the Evidence Base, including any relevant infographics and links to referenced research. Each document will need to align with the guidance available to service users via our website and in other published resources. It may be possible that the review provides insights into potential changes to the current guidance available and, where this is indicated, the post holder will work with our Scientific Advisory Group to provide the evidence for those discussions. Develop a standard operating procedure for updating the Evidence Base in future. As a dynamic organisation that adapts our guidance to the most up-to-date research. Our current process involves our Scientific Advisory Group assessing new research and, if appropriate, amending our guidance or adding research to an established research library. However, the format of the current Evidence Base document creates a challenge in adding new references and evidence. The revised Evidence Base documents created by this project will need to be easily edited and updated. The post holder will be required to develop a standard operating procedure for updating the documents as part of our current Scientific Advisory Group processes. Person Specification Essential: A good understanding of the research around SIDS and unexpected infant death. Experience of literature reviews, systematic reviews, critical appraisal, and evidence synthesis. Good written skills, including the ability to write in an accessible way. Attachment to a Further Education Institution. Access to own laptop/computer and necessary software. Ability to organise own time to meet agreed project milestones. To Apply: Please send a CV and a proposed project plan, including proposed methodology and a Gantt chart with intended timescales and milestones. References may be requested from successful applicants. Post holder must be available for regular online meetings to discuss progress and at least one in-person meeting with our Scientific Advisory Group in the London office. Application Instructions To Apply: Please send a CV and a proposed project plan, including proposed methodology and a Gantt chart with intended timescales and milestones. References may be requested from successful applicants.\n",
    "\"\"\"\n",
    "\n",
    "result = summarize_job_description(job_description)\n",
    "print(\"Keywords:\", result[\"keywords\"])\n",
    "print(\"Entities:\", result[\"entities\"])\n",
    "print(\"Summary:\", result[\"summary\"])"
   ],
   "id": "6743a8efe98f17e7",
   "outputs": [],
   "execution_count": null
  },
  {
   "metadata": {},
   "cell_type": "code",
   "source": [
    "def format_summary(job_title, location, salary, responsibilities, eligibility, benefits):\n",
    "    summary = f\"\"\"\n",
    "**Job Title:** {job_title}\n",
    "**Location:** {location}\n",
    "**Salary:** {salary}\n",
    "\n",
    "**Responsibilities:**\n",
    "- {responsibilities[0]}\n",
    "- {responsibilities[1]}\n",
    "- {responsibilities[2]}\n",
    "\n",
    "**Eligibility:**\n",
    "- {eligibility}\n",
    "\n",
    "**Benefits:**\n",
    "- {benefits}\n",
    "\"\"\"\n",
    "    return summary"
   ],
   "id": "b5d699fde62a4d0a",
   "outputs": [],
   "execution_count": null
  },
  {
   "metadata": {},
   "cell_type": "code",
   "source": "import re",
   "id": "ba4cf6354e73fdf4",
   "outputs": [],
   "execution_count": null
  },
  {
   "metadata": {},
   "cell_type": "code",
   "source": [
    "\n",
    "def clean_text(text):\n",
    "    # Remove irrelevant text (e.g., \"UniHub UniHub Dashboard James Notifications0\")\n",
    "    text = re.sub(r\"UniHub.*?Notifications\\d+\", \"\", text)\n",
    "    # Remove extra spaces and newlines\n",
    "    text = re.sub(r\"\\s+\", \" \", text).strip()\n",
    "    return text"
   ],
   "id": "d7c7793e7359de38",
   "outputs": [],
   "execution_count": null
  },
  {
   "metadata": {},
   "cell_type": "code",
   "source": [
    "def main():\n",
    "    print(\"Job Description Summarizer\")\n",
    "    jd_text = input(\"Paste the job description here:\\n\")\n",
    "    result = summarize_job_description(jd_text)\n",
    "    print(\"\\nKeywords:\", result[\"keywords\"])\n",
    "    print(\"\\nSummary:\", result[\"summary\"])\n",
    "\n",
    "if __name__ == \"__main__\":\n",
    "    main()"
   ],
   "id": "9b6d7990aff4cc90",
   "outputs": [],
   "execution_count": null
  },
  {
   "metadata": {},
   "cell_type": "code",
   "source": [
    "def save_to_file(result, filename=\"summary.txt\"):\n",
    "    with open(filename, \"w\") as f:\n",
    "        f.write(\"Keywords:\\n\")\n",
    "        f.write(\"\\n\".join(result[\"keywords\"]) + \"\\n\\n\")\n",
    "        f.write(\"Summary:\\n\")\n",
    "        f.write(result[\"summary\"])\n",
    "    print(f\"Summary saved to {filename}\")"
   ],
   "id": "71e75b8836821003",
   "outputs": [],
   "execution_count": null
  },
  {
   "metadata": {},
   "cell_type": "markdown",
   "source": "## Support for Multiple Job Descriptions",
   "id": "721a2840ae22704c"
  },
  {
   "metadata": {},
   "cell_type": "code",
   "source": [
    "def process_multiple_jds(jd_list):\n",
    "    summaries = []\n",
    "    for jd in jd_list:\n",
    "        result = summarize_job_description(jd)\n",
    "        summaries.append(result)\n",
    "    return summaries"
   ],
   "id": "58a5ed62e3615d56",
   "outputs": [],
   "execution_count": null
  },
  {
   "metadata": {},
   "cell_type": "code",
   "source": [
    "job_description = \"\"\"\n",
    "UniHub UniHub Dashboard James Notifications0 Spencer Academies Trust Nottingham, East Midlands, United Kingdom 1 job Teaching Intern United Kingdom £425 per week for full attendance & participation Full-time, Temporary Teaching Internship Programme takes place in Spencer Academies Trust schools across Nottinghamshire and Derbyshire. You will gain an insight into the life of a teacher and participate in training sessions. Applications close on 9 Feb 2025 Job details Teaching Internship Programme takes place in Spencer Academies Trust schools across Nottinghamshire and Derbyshire. You will gain an insight into the life of a teacher and participate in training sessions. Subjects: Maths Physics Chemistry Computing MFL. On the programme you will gain in-school experience, learn about the life of a teacher, support pupils in the classroom, shadow experienced teachers, discover the routes into teaching and participate in teaching. Eligibility You must be an undergraduate or master’s student, studying in a UK university, who is considering a career in teaching. The programme lasts for 3 weeks, 9th to 27th June 2025. You'll receive personalised post-programme support to assist you with getting into a career in teaching. More info Job types Graduate job Internship Expected commencement 9th June 2024 Posted 7 Nov 2024 Applications close on 9 Feb 2025 More jobs Independent Advisory Group – Volunteer – Derbyshire Derbyshire Constabulary Derbyshire, England, United Kingdom Youth Work Volunteer Safe and Sound Group First Floor East Mill, Darley Abbey Mills, Darley Abbey., Derby, Derbyshire, England, DE22 1DZ, United Kingdom Awareness Volunteer Safe and Sound Group First Floor East Mill, Darley Abbey Mills, Darley Abbey, Derby, Derbyshire, England, DE22 1DZ, United Kingdom\n",
    "\"\"\"\n",
    "\n",
    "result = summarize_job_description(job_description)\n",
    "print(\"Keywords:\", result[\"keywords\"])\n",
    "print(\"Summary:\", result[\"summary\"])"
   ],
   "id": "7cc42f7dd83db54c",
   "outputs": [],
   "execution_count": null
  },
  {
   "metadata": {},
   "cell_type": "markdown",
   "source": "## Implementation: Resume Matching",
   "id": "47b40830e90b5ce0"
  },
  {
   "metadata": {},
   "cell_type": "code",
   "source": [
    "from sklearn.feature_extraction.text import TfidfVectorizer\n",
    "from sklearn.metrics.pairwise import cosine_similarity\n"
   ],
   "id": "ed317d58f800024a",
   "outputs": [],
   "execution_count": null
  },
  {
   "metadata": {},
   "cell_type": "code",
   "source": [
    "\n",
    "def match_resume_to_jd(resume_text, jd_text):\n",
    "    # Combine resume and JD into a list\n",
    "    documents = [resume_text, jd_text]\n",
    "\n",
    "    # Compute TF-IDF vectors\n",
    "    vectorizer = TfidfVectorizer()\n",
    "    tfidf_matrix = vectorizer.fit_transform(documents)\n",
    "\n",
    "    # Compute cosine similarity\n",
    "    similarity = cosine_similarity(tfidf_matrix[0:1], tfidf_matrix[1:2])[0][0]\n",
    "\n",
    "    return similarity\n",
    "\n",
    "# Example usage\n",
    "resume = \"\"\"\n",
    "I am a Python Developer with 3 years of experience in Django and Flask. I have worked on web applications and REST APIs.\n",
    "\"\"\"\n",
    "jd = \"\"\"\n",
    "We are looking for a Python Developer with experience in Django and Flask. Knowledge of REST APIs is a plus.\n",
    "\"\"\"\n",
    "\n",
    "match_score = match_resume_to_jd(resume, jd)\n",
    "print(f\"Resume-JD Match Score: {match_score:.2f}\")"
   ],
   "id": "dec8908268d8d50b",
   "outputs": [],
   "execution_count": null
  },
  {
   "metadata": {},
   "cell_type": "markdown",
   "source": "## Implementation: Web Interface with Streamlit",
   "id": "229f3dee73736a63"
  },
  {
   "metadata": {},
   "cell_type": "code",
   "source": [
    "import streamlit as st\n",
    "\n",
    "st.title(\"Job Description Summarizer\")\n",
    "jd_text = st.text_area(\"Paste the job description here:\")\n",
    "\n",
    "if st.button(\"Summarize\"):\n",
    "    result = summarize_job_description(jd_text)\n",
    "    st.write(\"**Keywords:**\", result[\"keywords\"])\n",
    "    st.write(\"**Summary:**\", result[\"summary\"])"
   ],
   "id": "e8764254eb471ec7",
   "outputs": [],
   "execution_count": null
  }
 ],
 "metadata": {
  "kernelspec": {
   "display_name": "Python 3",
   "language": "python",
   "name": "python3"
  },
  "language_info": {
   "codemirror_mode": {
    "name": "ipython",
    "version": 2
   },
   "file_extension": ".py",
   "mimetype": "text/x-python",
   "name": "python",
   "nbconvert_exporter": "python",
   "pygments_lexer": "ipython2",
   "version": "2.7.6"
  }
 },
 "nbformat": 4,
 "nbformat_minor": 5
}
