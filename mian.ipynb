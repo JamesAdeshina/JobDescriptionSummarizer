{
 "cells": [
  {
   "metadata": {},
   "cell_type": "markdown",
   "source": "# Job Description (JD) Summarizer",
   "id": "48ebef71d7747c6c"
  },
  {
   "metadata": {},
   "cell_type": "markdown",
   "source": "## Install Required Libraries",
   "id": "c507460acd3c1cba"
  },
  {
   "cell_type": "code",
   "id": "initial_id",
   "metadata": {
    "collapsed": true,
    "ExecuteTime": {
     "end_time": "2025-02-02T08:26:13.201872Z",
     "start_time": "2025-02-02T08:25:30.737020Z"
    }
   },
   "source": [
    "# Install required libraries\n",
    "\n",
    "!pip install nltk spacy sumy rake-nltk\n",
    "!python -m spacy download en_core_web_sm\n",
    "!pip uninstall -y spacy pydantic"
   ],
   "outputs": [
    {
     "name": "stdout",
     "output_type": "stream",
     "text": [
      "Requirement already satisfied: nltk in /Users/apple2015/Documents/MSc/SchoolStuff/NLP/Personal/Job Description Skill Analyzer/.venv/lib/python3.11/site-packages (3.9.1)\r\n",
      "Requirement already satisfied: spacy in /Users/apple2015/Documents/MSc/SchoolStuff/NLP/Personal/Job Description Skill Analyzer/.venv/lib/python3.11/site-packages (3.8.4)\r\n",
      "Requirement already satisfied: sumy in /Users/apple2015/Documents/MSc/SchoolStuff/NLP/Personal/Job Description Skill Analyzer/.venv/lib/python3.11/site-packages (0.11.0)\r\n",
      "Requirement already satisfied: rake-nltk in /Users/apple2015/Documents/MSc/SchoolStuff/NLP/Personal/Job Description Skill Analyzer/.venv/lib/python3.11/site-packages (1.0.6)\r\n",
      "Requirement already satisfied: click in /Users/apple2015/Documents/MSc/SchoolStuff/NLP/Personal/Job Description Skill Analyzer/.venv/lib/python3.11/site-packages (from nltk) (8.1.7)\r\n",
      "Requirement already satisfied: joblib in /Users/apple2015/Documents/MSc/SchoolStuff/NLP/Personal/Job Description Skill Analyzer/.venv/lib/python3.11/site-packages (from nltk) (1.4.2)\r\n",
      "Requirement already satisfied: regex>=2021.8.3 in /Users/apple2015/Documents/MSc/SchoolStuff/NLP/Personal/Job Description Skill Analyzer/.venv/lib/python3.11/site-packages (from nltk) (2024.11.6)\r\n",
      "Requirement already satisfied: tqdm in /Users/apple2015/Documents/MSc/SchoolStuff/NLP/Personal/Job Description Skill Analyzer/.venv/lib/python3.11/site-packages (from nltk) (4.67.0)\r\n",
      "Requirement already satisfied: spacy-legacy<3.1.0,>=3.0.11 in /Users/apple2015/Documents/MSc/SchoolStuff/NLP/Personal/Job Description Skill Analyzer/.venv/lib/python3.11/site-packages (from spacy) (3.0.12)\r\n",
      "Requirement already satisfied: spacy-loggers<2.0.0,>=1.0.0 in /Users/apple2015/Documents/MSc/SchoolStuff/NLP/Personal/Job Description Skill Analyzer/.venv/lib/python3.11/site-packages (from spacy) (1.0.5)\r\n",
      "Requirement already satisfied: murmurhash<1.1.0,>=0.28.0 in /Users/apple2015/Documents/MSc/SchoolStuff/NLP/Personal/Job Description Skill Analyzer/.venv/lib/python3.11/site-packages (from spacy) (1.0.10)\r\n",
      "Requirement already satisfied: cymem<2.1.0,>=2.0.2 in /Users/apple2015/Documents/MSc/SchoolStuff/NLP/Personal/Job Description Skill Analyzer/.venv/lib/python3.11/site-packages (from spacy) (2.0.8)\r\n",
      "Requirement already satisfied: preshed<3.1.0,>=3.0.2 in /Users/apple2015/Documents/MSc/SchoolStuff/NLP/Personal/Job Description Skill Analyzer/.venv/lib/python3.11/site-packages (from spacy) (3.0.9)\r\n",
      "Requirement already satisfied: thinc<8.4.0,>=8.3.4 in /Users/apple2015/Documents/MSc/SchoolStuff/NLP/Personal/Job Description Skill Analyzer/.venv/lib/python3.11/site-packages (from spacy) (8.3.4)\r\n",
      "Requirement already satisfied: wasabi<1.2.0,>=0.9.1 in /Users/apple2015/Documents/MSc/SchoolStuff/NLP/Personal/Job Description Skill Analyzer/.venv/lib/python3.11/site-packages (from spacy) (1.1.3)\r\n",
      "Requirement already satisfied: srsly<3.0.0,>=2.4.3 in /Users/apple2015/Documents/MSc/SchoolStuff/NLP/Personal/Job Description Skill Analyzer/.venv/lib/python3.11/site-packages (from spacy) (2.4.8)\r\n",
      "Requirement already satisfied: catalogue<2.1.0,>=2.0.6 in /Users/apple2015/Documents/MSc/SchoolStuff/NLP/Personal/Job Description Skill Analyzer/.venv/lib/python3.11/site-packages (from spacy) (2.0.10)\r\n",
      "Requirement already satisfied: weasel<0.5.0,>=0.1.0 in /Users/apple2015/Documents/MSc/SchoolStuff/NLP/Personal/Job Description Skill Analyzer/.venv/lib/python3.11/site-packages (from spacy) (0.4.1)\r\n",
      "Requirement already satisfied: typer<1.0.0,>=0.3.0 in /Users/apple2015/Documents/MSc/SchoolStuff/NLP/Personal/Job Description Skill Analyzer/.venv/lib/python3.11/site-packages (from spacy) (0.13.1)\r\n",
      "Requirement already satisfied: numpy>=1.19.0 in /Users/apple2015/Documents/MSc/SchoolStuff/NLP/Personal/Job Description Skill Analyzer/.venv/lib/python3.11/site-packages (from spacy) (2.0.2)\r\n",
      "Requirement already satisfied: requests<3.0.0,>=2.13.0 in /Users/apple2015/Documents/MSc/SchoolStuff/NLP/Personal/Job Description Skill Analyzer/.venv/lib/python3.11/site-packages (from spacy) (2.32.3)\r\n",
      "Requirement already satisfied: pydantic!=1.8,!=1.8.1,<3.0.0,>=1.7.4 in /Users/apple2015/Documents/MSc/SchoolStuff/NLP/Personal/Job Description Skill Analyzer/.venv/lib/python3.11/site-packages (from spacy) (1.10.13)\r\n",
      "Requirement already satisfied: jinja2 in /Users/apple2015/Documents/MSc/SchoolStuff/NLP/Personal/Job Description Skill Analyzer/.venv/lib/python3.11/site-packages (from spacy) (3.1.4)\r\n",
      "Requirement already satisfied: setuptools in /Users/apple2015/Documents/MSc/SchoolStuff/NLP/Personal/Job Description Skill Analyzer/.venv/lib/python3.11/site-packages (from spacy) (68.2.0)\r\n",
      "Requirement already satisfied: packaging>=20.0 in /Users/apple2015/Documents/MSc/SchoolStuff/NLP/Personal/Job Description Skill Analyzer/.venv/lib/python3.11/site-packages (from spacy) (24.2)\r\n",
      "Requirement already satisfied: langcodes<4.0.0,>=3.2.0 in /Users/apple2015/Documents/MSc/SchoolStuff/NLP/Personal/Job Description Skill Analyzer/.venv/lib/python3.11/site-packages (from spacy) (3.5.0)\r\n",
      "Requirement already satisfied: docopt<0.7,>=0.6.1 in /Users/apple2015/Documents/MSc/SchoolStuff/NLP/Personal/Job Description Skill Analyzer/.venv/lib/python3.11/site-packages (from sumy) (0.6.2)\r\n",
      "Requirement already satisfied: breadability>=0.1.20 in /Users/apple2015/Documents/MSc/SchoolStuff/NLP/Personal/Job Description Skill Analyzer/.venv/lib/python3.11/site-packages (from sumy) (0.1.20)\r\n",
      "Requirement already satisfied: pycountry>=18.2.23 in /Users/apple2015/Documents/MSc/SchoolStuff/NLP/Personal/Job Description Skill Analyzer/.venv/lib/python3.11/site-packages (from sumy) (24.6.1)\r\n",
      "Requirement already satisfied: chardet in /Users/apple2015/Documents/MSc/SchoolStuff/NLP/Personal/Job Description Skill Analyzer/.venv/lib/python3.11/site-packages (from breadability>=0.1.20->sumy) (5.2.0)\r\n",
      "Requirement already satisfied: lxml>=2.0 in /Users/apple2015/Documents/MSc/SchoolStuff/NLP/Personal/Job Description Skill Analyzer/.venv/lib/python3.11/site-packages (from breadability>=0.1.20->sumy) (5.3.0)\r\n",
      "Requirement already satisfied: language-data>=1.2 in /Users/apple2015/Documents/MSc/SchoolStuff/NLP/Personal/Job Description Skill Analyzer/.venv/lib/python3.11/site-packages (from langcodes<4.0.0,>=3.2.0->spacy) (1.3.0)\r\n",
      "Requirement already satisfied: typing-extensions>=4.2.0 in /Users/apple2015/Documents/MSc/SchoolStuff/NLP/Personal/Job Description Skill Analyzer/.venv/lib/python3.11/site-packages (from pydantic!=1.8,!=1.8.1,<3.0.0,>=1.7.4->spacy) (4.12.2)\r\n",
      "Requirement already satisfied: charset-normalizer<4,>=2 in /Users/apple2015/Documents/MSc/SchoolStuff/NLP/Personal/Job Description Skill Analyzer/.venv/lib/python3.11/site-packages (from requests<3.0.0,>=2.13.0->spacy) (3.4.0)\r\n",
      "Requirement already satisfied: idna<4,>=2.5 in /Users/apple2015/Documents/MSc/SchoolStuff/NLP/Personal/Job Description Skill Analyzer/.venv/lib/python3.11/site-packages (from requests<3.0.0,>=2.13.0->spacy) (3.10)\r\n",
      "Requirement already satisfied: urllib3<3,>=1.21.1 in /Users/apple2015/Documents/MSc/SchoolStuff/NLP/Personal/Job Description Skill Analyzer/.venv/lib/python3.11/site-packages (from requests<3.0.0,>=2.13.0->spacy) (2.2.3)\r\n",
      "Requirement already satisfied: certifi>=2017.4.17 in /Users/apple2015/Documents/MSc/SchoolStuff/NLP/Personal/Job Description Skill Analyzer/.venv/lib/python3.11/site-packages (from requests<3.0.0,>=2.13.0->spacy) (2024.8.30)\r\n",
      "Requirement already satisfied: blis<1.3.0,>=1.2.0 in /Users/apple2015/Documents/MSc/SchoolStuff/NLP/Personal/Job Description Skill Analyzer/.venv/lib/python3.11/site-packages (from thinc<8.4.0,>=8.3.4->spacy) (1.2.0)\r\n",
      "Requirement already satisfied: confection<1.0.0,>=0.0.1 in /Users/apple2015/Documents/MSc/SchoolStuff/NLP/Personal/Job Description Skill Analyzer/.venv/lib/python3.11/site-packages (from thinc<8.4.0,>=8.3.4->spacy) (0.1.5)\r\n",
      "Requirement already satisfied: shellingham>=1.3.0 in /Users/apple2015/Documents/MSc/SchoolStuff/NLP/Personal/Job Description Skill Analyzer/.venv/lib/python3.11/site-packages (from typer<1.0.0,>=0.3.0->spacy) (1.5.4)\r\n",
      "Requirement already satisfied: rich>=10.11.0 in /Users/apple2015/Documents/MSc/SchoolStuff/NLP/Personal/Job Description Skill Analyzer/.venv/lib/python3.11/site-packages (from typer<1.0.0,>=0.3.0->spacy) (13.9.4)\r\n",
      "Requirement already satisfied: cloudpathlib<1.0.0,>=0.7.0 in /Users/apple2015/Documents/MSc/SchoolStuff/NLP/Personal/Job Description Skill Analyzer/.venv/lib/python3.11/site-packages (from weasel<0.5.0,>=0.1.0->spacy) (0.20.0)\r\n",
      "Requirement already satisfied: smart-open<8.0.0,>=5.2.1 in /Users/apple2015/Documents/MSc/SchoolStuff/NLP/Personal/Job Description Skill Analyzer/.venv/lib/python3.11/site-packages (from weasel<0.5.0,>=0.1.0->spacy) (7.0.5)\r\n",
      "Requirement already satisfied: MarkupSafe>=2.0 in /Users/apple2015/Documents/MSc/SchoolStuff/NLP/Personal/Job Description Skill Analyzer/.venv/lib/python3.11/site-packages (from jinja2->spacy) (3.0.2)\r\n",
      "Requirement already satisfied: marisa-trie>=1.1.0 in /Users/apple2015/Documents/MSc/SchoolStuff/NLP/Personal/Job Description Skill Analyzer/.venv/lib/python3.11/site-packages (from language-data>=1.2->langcodes<4.0.0,>=3.2.0->spacy) (1.2.1)\r\n",
      "Requirement already satisfied: markdown-it-py>=2.2.0 in /Users/apple2015/Documents/MSc/SchoolStuff/NLP/Personal/Job Description Skill Analyzer/.venv/lib/python3.11/site-packages (from rich>=10.11.0->typer<1.0.0,>=0.3.0->spacy) (3.0.0)\r\n",
      "Requirement already satisfied: pygments<3.0.0,>=2.13.0 in /Users/apple2015/Documents/MSc/SchoolStuff/NLP/Personal/Job Description Skill Analyzer/.venv/lib/python3.11/site-packages (from rich>=10.11.0->typer<1.0.0,>=0.3.0->spacy) (2.18.0)\r\n",
      "Requirement already satisfied: wrapt in /Users/apple2015/Documents/MSc/SchoolStuff/NLP/Personal/Job Description Skill Analyzer/.venv/lib/python3.11/site-packages (from smart-open<8.0.0,>=5.2.1->weasel<0.5.0,>=0.1.0->spacy) (1.16.0)\r\n",
      "Requirement already satisfied: mdurl~=0.1 in /Users/apple2015/Documents/MSc/SchoolStuff/NLP/Personal/Job Description Skill Analyzer/.venv/lib/python3.11/site-packages (from markdown-it-py>=2.2.0->rich>=10.11.0->typer<1.0.0,>=0.3.0->spacy) (0.1.2)\r\n",
      "\r\n",
      "\u001B[1m[\u001B[0m\u001B[34;49mnotice\u001B[0m\u001B[1;39;49m]\u001B[0m\u001B[39;49m A new release of pip is available: \u001B[0m\u001B[31;49m23.2.1\u001B[0m\u001B[39;49m -> \u001B[0m\u001B[32;49m25.0\u001B[0m\r\n",
      "\u001B[1m[\u001B[0m\u001B[34;49mnotice\u001B[0m\u001B[1;39;49m]\u001B[0m\u001B[39;49m To update, run: \u001B[0m\u001B[32;49mpip install --upgrade pip\u001B[0m\r\n",
      "\r\n",
      "A module that was compiled using NumPy 1.x cannot be run in\r\n",
      "NumPy 2.0.2 as it may crash. To support both 1.x and 2.x\r\n",
      "versions of NumPy, modules must be compiled with NumPy 2.0.\r\n",
      "Some module may need to rebuild instead e.g. with 'pybind11>=2.12'.\r\n",
      "\r\n",
      "If you are a user of the module, the easiest solution will be to\r\n",
      "downgrade to 'numpy<2' or try to upgrade the affected module.\r\n",
      "We expect that some modules will need time to support NumPy 2.\r\n",
      "\r\n",
      "Traceback (most recent call last):  File \"<frozen runpy>\", line 189, in _run_module_as_main\r\n",
      "  File \"<frozen runpy>\", line 148, in _get_module_details\r\n",
      "  File \"<frozen runpy>\", line 112, in _get_module_details\r\n",
      "  File \"/Users/apple2015/Documents/MSc/SchoolStuff/NLP/Personal/Job Description Skill Analyzer/.venv/lib/python3.11/site-packages/spacy/__init__.py\", line 6, in <module>\r\n",
      "    from .errors import setup_default_warnings\r\n",
      "  File \"/Users/apple2015/Documents/MSc/SchoolStuff/NLP/Personal/Job Description Skill Analyzer/.venv/lib/python3.11/site-packages/spacy/errors.py\", line 3, in <module>\r\n",
      "    from .compat import Literal\r\n",
      "  File \"/Users/apple2015/Documents/MSc/SchoolStuff/NLP/Personal/Job Description Skill Analyzer/.venv/lib/python3.11/site-packages/spacy/compat.py\", line 4, in <module>\r\n",
      "    from thinc.util import copy_array\r\n",
      "  File \"/Users/apple2015/Documents/MSc/SchoolStuff/NLP/Personal/Job Description Skill Analyzer/.venv/lib/python3.11/site-packages/thinc/__init__.py\", line 5, in <module>\r\n",
      "    from .config import registry\r\n",
      "  File \"/Users/apple2015/Documents/MSc/SchoolStuff/NLP/Personal/Job Description Skill Analyzer/.venv/lib/python3.11/site-packages/thinc/config.py\", line 5, in <module>\r\n",
      "    from .types import Decorator\r\n",
      "  File \"/Users/apple2015/Documents/MSc/SchoolStuff/NLP/Personal/Job Description Skill Analyzer/.venv/lib/python3.11/site-packages/thinc/types.py\", line 25, in <module>\r\n",
      "    from .compat import cupy, has_cupy\r\n",
      "  File \"/Users/apple2015/Documents/MSc/SchoolStuff/NLP/Personal/Job Description Skill Analyzer/.venv/lib/python3.11/site-packages/thinc/compat.py\", line 35, in <module>\r\n",
      "    import torch\r\n",
      "  File \"/Users/apple2015/Documents/MSc/SchoolStuff/NLP/Personal/Job Description Skill Analyzer/.venv/lib/python3.11/site-packages/torch/__init__.py\", line 1382, in <module>\r\n",
      "    from .functional import *  # noqa: F403\r\n",
      "  File \"/Users/apple2015/Documents/MSc/SchoolStuff/NLP/Personal/Job Description Skill Analyzer/.venv/lib/python3.11/site-packages/torch/functional.py\", line 7, in <module>\r\n",
      "    import torch.nn.functional as F\r\n",
      "  File \"/Users/apple2015/Documents/MSc/SchoolStuff/NLP/Personal/Job Description Skill Analyzer/.venv/lib/python3.11/site-packages/torch/nn/__init__.py\", line 1, in <module>\r\n",
      "    from .modules import *  # noqa: F403\r\n",
      "  File \"/Users/apple2015/Documents/MSc/SchoolStuff/NLP/Personal/Job Description Skill Analyzer/.venv/lib/python3.11/site-packages/torch/nn/modules/__init__.py\", line 35, in <module>\r\n",
      "    from .transformer import TransformerEncoder, TransformerDecoder, \\\r\n",
      "  File \"/Users/apple2015/Documents/MSc/SchoolStuff/NLP/Personal/Job Description Skill Analyzer/.venv/lib/python3.11/site-packages/torch/nn/modules/transformer.py\", line 20, in <module>\r\n",
      "    device: torch.device = torch.device(torch._C._get_default_device()),  # torch.device('cpu'),\r\n",
      "/Users/apple2015/Documents/MSc/SchoolStuff/NLP/Personal/Job Description Skill Analyzer/.venv/lib/python3.11/site-packages/torch/nn/modules/transformer.py:20: UserWarning: Failed to initialize NumPy: _ARRAY_API not found (Triggered internally at /Users/runner/work/pytorch/pytorch/pytorch/torch/csrc/utils/tensor_numpy.cpp:84.)\r\n",
      "  device: torch.device = torch.device(torch._C._get_default_device()),  # torch.device('cpu'),\r\n",
      "Collecting en-core-web-sm==3.8.0\r\n",
      "  Downloading https://github.com/explosion/spacy-models/releases/download/en_core_web_sm-3.8.0/en_core_web_sm-3.8.0-py3-none-any.whl (12.8 MB)\r\n",
      "\u001B[2K     \u001B[90m━━━━━━━━━━━━━━━━━━━━━━━━━━━━━━━━━━━━━━━━\u001B[0m \u001B[32m12.8/12.8 MB\u001B[0m \u001B[31m3.9 MB/s\u001B[0m eta \u001B[36m0:00:00\u001B[0m00:01\u001B[0m00:01\u001B[0m\r\n",
      "\u001B[?25h\r\n",
      "\u001B[1m[\u001B[0m\u001B[34;49mnotice\u001B[0m\u001B[1;39;49m]\u001B[0m\u001B[39;49m A new release of pip is available: \u001B[0m\u001B[31;49m23.2.1\u001B[0m\u001B[39;49m -> \u001B[0m\u001B[32;49m25.0\u001B[0m\r\n",
      "\u001B[1m[\u001B[0m\u001B[34;49mnotice\u001B[0m\u001B[1;39;49m]\u001B[0m\u001B[39;49m To update, run: \u001B[0m\u001B[32;49mpip install --upgrade pip\u001B[0m\r\n",
      "\u001B[38;5;2m✔ Download and installation successful\u001B[0m\r\n",
      "You can now load the package via spacy.load('en_core_web_sm')\r\n",
      "Found existing installation: spacy 3.8.4\r\n",
      "Uninstalling spacy-3.8.4:\r\n",
      "  Successfully uninstalled spacy-3.8.4\r\n",
      "Found existing installation: pydantic 1.10.13\r\n",
      "Uninstalling pydantic-1.10.13:\r\n",
      "  Successfully uninstalled pydantic-1.10.13\r\n"
     ]
    }
   ],
   "execution_count": 31
  },
  {
   "metadata": {
    "ExecuteTime": {
     "end_time": "2025-02-02T08:28:12.030723Z",
     "start_time": "2025-02-02T08:26:13.240138Z"
    }
   },
   "cell_type": "code",
   "source": [
    "!pip install spacy pydantic==1.10.13\n",
    "!python -m spacy download en_core_web_sm\n"
   ],
   "id": "15894e292906303c",
   "outputs": [
    {
     "name": "stdout",
     "output_type": "stream",
     "text": [
      "Collecting spacy\r\n",
      "  Obtaining dependency information for spacy from https://files.pythonhosted.org/packages/4c/d9/439aed2e686b30aef877dea6181852810ae9dc2fcbc9003e9eedb543e463/spacy-3.8.4-cp311-cp311-macosx_10_9_x86_64.whl.metadata\r\n",
      "  Using cached spacy-3.8.4-cp311-cp311-macosx_10_9_x86_64.whl.metadata (27 kB)\r\n",
      "Collecting pydantic==1.10.13\r\n",
      "  Obtaining dependency information for pydantic==1.10.13 from https://files.pythonhosted.org/packages/61/ed/dab1c82927bca9c2b510f6aec170036efbc382c2bb3929a23f325fc30ce1/pydantic-1.10.13-cp311-cp311-macosx_10_9_x86_64.whl.metadata\r\n",
      "  Using cached pydantic-1.10.13-cp311-cp311-macosx_10_9_x86_64.whl.metadata (149 kB)\r\n",
      "Requirement already satisfied: typing-extensions>=4.2.0 in /Users/apple2015/Documents/MSc/SchoolStuff/NLP/Personal/Job Description Skill Analyzer/.venv/lib/python3.11/site-packages (from pydantic==1.10.13) (4.12.2)\r\n",
      "Requirement already satisfied: spacy-legacy<3.1.0,>=3.0.11 in /Users/apple2015/Documents/MSc/SchoolStuff/NLP/Personal/Job Description Skill Analyzer/.venv/lib/python3.11/site-packages (from spacy) (3.0.12)\r\n",
      "Requirement already satisfied: spacy-loggers<2.0.0,>=1.0.0 in /Users/apple2015/Documents/MSc/SchoolStuff/NLP/Personal/Job Description Skill Analyzer/.venv/lib/python3.11/site-packages (from spacy) (1.0.5)\r\n",
      "Requirement already satisfied: murmurhash<1.1.0,>=0.28.0 in /Users/apple2015/Documents/MSc/SchoolStuff/NLP/Personal/Job Description Skill Analyzer/.venv/lib/python3.11/site-packages (from spacy) (1.0.10)\r\n",
      "Requirement already satisfied: cymem<2.1.0,>=2.0.2 in /Users/apple2015/Documents/MSc/SchoolStuff/NLP/Personal/Job Description Skill Analyzer/.venv/lib/python3.11/site-packages (from spacy) (2.0.8)\r\n",
      "Requirement already satisfied: preshed<3.1.0,>=3.0.2 in /Users/apple2015/Documents/MSc/SchoolStuff/NLP/Personal/Job Description Skill Analyzer/.venv/lib/python3.11/site-packages (from spacy) (3.0.9)\r\n",
      "Requirement already satisfied: thinc<8.4.0,>=8.3.4 in /Users/apple2015/Documents/MSc/SchoolStuff/NLP/Personal/Job Description Skill Analyzer/.venv/lib/python3.11/site-packages (from spacy) (8.3.4)\r\n",
      "Requirement already satisfied: wasabi<1.2.0,>=0.9.1 in /Users/apple2015/Documents/MSc/SchoolStuff/NLP/Personal/Job Description Skill Analyzer/.venv/lib/python3.11/site-packages (from spacy) (1.1.3)\r\n",
      "Requirement already satisfied: srsly<3.0.0,>=2.4.3 in /Users/apple2015/Documents/MSc/SchoolStuff/NLP/Personal/Job Description Skill Analyzer/.venv/lib/python3.11/site-packages (from spacy) (2.4.8)\r\n",
      "Requirement already satisfied: catalogue<2.1.0,>=2.0.6 in /Users/apple2015/Documents/MSc/SchoolStuff/NLP/Personal/Job Description Skill Analyzer/.venv/lib/python3.11/site-packages (from spacy) (2.0.10)\r\n",
      "Requirement already satisfied: weasel<0.5.0,>=0.1.0 in /Users/apple2015/Documents/MSc/SchoolStuff/NLP/Personal/Job Description Skill Analyzer/.venv/lib/python3.11/site-packages (from spacy) (0.4.1)\r\n",
      "Requirement already satisfied: typer<1.0.0,>=0.3.0 in /Users/apple2015/Documents/MSc/SchoolStuff/NLP/Personal/Job Description Skill Analyzer/.venv/lib/python3.11/site-packages (from spacy) (0.13.1)\r\n",
      "Requirement already satisfied: tqdm<5.0.0,>=4.38.0 in /Users/apple2015/Documents/MSc/SchoolStuff/NLP/Personal/Job Description Skill Analyzer/.venv/lib/python3.11/site-packages (from spacy) (4.67.0)\r\n",
      "Requirement already satisfied: numpy>=1.19.0 in /Users/apple2015/Documents/MSc/SchoolStuff/NLP/Personal/Job Description Skill Analyzer/.venv/lib/python3.11/site-packages (from spacy) (2.0.2)\r\n",
      "Requirement already satisfied: requests<3.0.0,>=2.13.0 in /Users/apple2015/Documents/MSc/SchoolStuff/NLP/Personal/Job Description Skill Analyzer/.venv/lib/python3.11/site-packages (from spacy) (2.32.3)\r\n",
      "Requirement already satisfied: jinja2 in /Users/apple2015/Documents/MSc/SchoolStuff/NLP/Personal/Job Description Skill Analyzer/.venv/lib/python3.11/site-packages (from spacy) (3.1.4)\r\n",
      "Requirement already satisfied: setuptools in /Users/apple2015/Documents/MSc/SchoolStuff/NLP/Personal/Job Description Skill Analyzer/.venv/lib/python3.11/site-packages (from spacy) (68.2.0)\r\n",
      "Requirement already satisfied: packaging>=20.0 in /Users/apple2015/Documents/MSc/SchoolStuff/NLP/Personal/Job Description Skill Analyzer/.venv/lib/python3.11/site-packages (from spacy) (24.2)\r\n",
      "Requirement already satisfied: langcodes<4.0.0,>=3.2.0 in /Users/apple2015/Documents/MSc/SchoolStuff/NLP/Personal/Job Description Skill Analyzer/.venv/lib/python3.11/site-packages (from spacy) (3.5.0)\r\n",
      "Requirement already satisfied: language-data>=1.2 in /Users/apple2015/Documents/MSc/SchoolStuff/NLP/Personal/Job Description Skill Analyzer/.venv/lib/python3.11/site-packages (from langcodes<4.0.0,>=3.2.0->spacy) (1.3.0)\r\n",
      "Requirement already satisfied: charset-normalizer<4,>=2 in /Users/apple2015/Documents/MSc/SchoolStuff/NLP/Personal/Job Description Skill Analyzer/.venv/lib/python3.11/site-packages (from requests<3.0.0,>=2.13.0->spacy) (3.4.0)\r\n",
      "Requirement already satisfied: idna<4,>=2.5 in /Users/apple2015/Documents/MSc/SchoolStuff/NLP/Personal/Job Description Skill Analyzer/.venv/lib/python3.11/site-packages (from requests<3.0.0,>=2.13.0->spacy) (3.10)\r\n",
      "Requirement already satisfied: urllib3<3,>=1.21.1 in /Users/apple2015/Documents/MSc/SchoolStuff/NLP/Personal/Job Description Skill Analyzer/.venv/lib/python3.11/site-packages (from requests<3.0.0,>=2.13.0->spacy) (2.2.3)\r\n",
      "Requirement already satisfied: certifi>=2017.4.17 in /Users/apple2015/Documents/MSc/SchoolStuff/NLP/Personal/Job Description Skill Analyzer/.venv/lib/python3.11/site-packages (from requests<3.0.0,>=2.13.0->spacy) (2024.8.30)\r\n",
      "Requirement already satisfied: blis<1.3.0,>=1.2.0 in /Users/apple2015/Documents/MSc/SchoolStuff/NLP/Personal/Job Description Skill Analyzer/.venv/lib/python3.11/site-packages (from thinc<8.4.0,>=8.3.4->spacy) (1.2.0)\r\n",
      "Requirement already satisfied: confection<1.0.0,>=0.0.1 in /Users/apple2015/Documents/MSc/SchoolStuff/NLP/Personal/Job Description Skill Analyzer/.venv/lib/python3.11/site-packages (from thinc<8.4.0,>=8.3.4->spacy) (0.1.5)\r\n",
      "Requirement already satisfied: click>=8.0.0 in /Users/apple2015/Documents/MSc/SchoolStuff/NLP/Personal/Job Description Skill Analyzer/.venv/lib/python3.11/site-packages (from typer<1.0.0,>=0.3.0->spacy) (8.1.7)\r\n",
      "Requirement already satisfied: shellingham>=1.3.0 in /Users/apple2015/Documents/MSc/SchoolStuff/NLP/Personal/Job Description Skill Analyzer/.venv/lib/python3.11/site-packages (from typer<1.0.0,>=0.3.0->spacy) (1.5.4)\r\n",
      "Requirement already satisfied: rich>=10.11.0 in /Users/apple2015/Documents/MSc/SchoolStuff/NLP/Personal/Job Description Skill Analyzer/.venv/lib/python3.11/site-packages (from typer<1.0.0,>=0.3.0->spacy) (13.9.4)\r\n",
      "Requirement already satisfied: cloudpathlib<1.0.0,>=0.7.0 in /Users/apple2015/Documents/MSc/SchoolStuff/NLP/Personal/Job Description Skill Analyzer/.venv/lib/python3.11/site-packages (from weasel<0.5.0,>=0.1.0->spacy) (0.20.0)\r\n",
      "Requirement already satisfied: smart-open<8.0.0,>=5.2.1 in /Users/apple2015/Documents/MSc/SchoolStuff/NLP/Personal/Job Description Skill Analyzer/.venv/lib/python3.11/site-packages (from weasel<0.5.0,>=0.1.0->spacy) (7.0.5)\r\n",
      "Requirement already satisfied: MarkupSafe>=2.0 in /Users/apple2015/Documents/MSc/SchoolStuff/NLP/Personal/Job Description Skill Analyzer/.venv/lib/python3.11/site-packages (from jinja2->spacy) (3.0.2)\r\n",
      "Requirement already satisfied: marisa-trie>=1.1.0 in /Users/apple2015/Documents/MSc/SchoolStuff/NLP/Personal/Job Description Skill Analyzer/.venv/lib/python3.11/site-packages (from language-data>=1.2->langcodes<4.0.0,>=3.2.0->spacy) (1.2.1)\r\n",
      "Requirement already satisfied: markdown-it-py>=2.2.0 in /Users/apple2015/Documents/MSc/SchoolStuff/NLP/Personal/Job Description Skill Analyzer/.venv/lib/python3.11/site-packages (from rich>=10.11.0->typer<1.0.0,>=0.3.0->spacy) (3.0.0)\r\n",
      "Requirement already satisfied: pygments<3.0.0,>=2.13.0 in /Users/apple2015/Documents/MSc/SchoolStuff/NLP/Personal/Job Description Skill Analyzer/.venv/lib/python3.11/site-packages (from rich>=10.11.0->typer<1.0.0,>=0.3.0->spacy) (2.18.0)\r\n",
      "Requirement already satisfied: wrapt in /Users/apple2015/Documents/MSc/SchoolStuff/NLP/Personal/Job Description Skill Analyzer/.venv/lib/python3.11/site-packages (from smart-open<8.0.0,>=5.2.1->weasel<0.5.0,>=0.1.0->spacy) (1.16.0)\r\n",
      "Requirement already satisfied: mdurl~=0.1 in /Users/apple2015/Documents/MSc/SchoolStuff/NLP/Personal/Job Description Skill Analyzer/.venv/lib/python3.11/site-packages (from markdown-it-py>=2.2.0->rich>=10.11.0->typer<1.0.0,>=0.3.0->spacy) (0.1.2)\r\n",
      "Using cached pydantic-1.10.13-cp311-cp311-macosx_10_9_x86_64.whl (2.8 MB)\r\n",
      "Using cached spacy-3.8.4-cp311-cp311-macosx_10_9_x86_64.whl (6.6 MB)\r\n",
      "Installing collected packages: pydantic, spacy\r\n",
      "Successfully installed pydantic-1.10.13 spacy-3.8.4\r\n",
      "\r\n",
      "\u001B[1m[\u001B[0m\u001B[34;49mnotice\u001B[0m\u001B[1;39;49m]\u001B[0m\u001B[39;49m A new release of pip is available: \u001B[0m\u001B[31;49m23.2.1\u001B[0m\u001B[39;49m -> \u001B[0m\u001B[32;49m25.0\u001B[0m\r\n",
      "\u001B[1m[\u001B[0m\u001B[34;49mnotice\u001B[0m\u001B[1;39;49m]\u001B[0m\u001B[39;49m To update, run: \u001B[0m\u001B[32;49mpip install --upgrade pip\u001B[0m\r\n",
      "\r\n",
      "A module that was compiled using NumPy 1.x cannot be run in\r\n",
      "NumPy 2.0.2 as it may crash. To support both 1.x and 2.x\r\n",
      "versions of NumPy, modules must be compiled with NumPy 2.0.\r\n",
      "Some module may need to rebuild instead e.g. with 'pybind11>=2.12'.\r\n",
      "\r\n",
      "If you are a user of the module, the easiest solution will be to\r\n",
      "downgrade to 'numpy<2' or try to upgrade the affected module.\r\n",
      "We expect that some modules will need time to support NumPy 2.\r\n",
      "\r\n",
      "Traceback (most recent call last):  File \"<frozen runpy>\", line 189, in _run_module_as_main\r\n",
      "  File \"<frozen runpy>\", line 148, in _get_module_details\r\n",
      "  File \"<frozen runpy>\", line 112, in _get_module_details\r\n",
      "  File \"/Users/apple2015/Documents/MSc/SchoolStuff/NLP/Personal/Job Description Skill Analyzer/.venv/lib/python3.11/site-packages/spacy/__init__.py\", line 6, in <module>\r\n",
      "    from .errors import setup_default_warnings\r\n",
      "  File \"/Users/apple2015/Documents/MSc/SchoolStuff/NLP/Personal/Job Description Skill Analyzer/.venv/lib/python3.11/site-packages/spacy/errors.py\", line 3, in <module>\r\n",
      "    from .compat import Literal\r\n",
      "  File \"/Users/apple2015/Documents/MSc/SchoolStuff/NLP/Personal/Job Description Skill Analyzer/.venv/lib/python3.11/site-packages/spacy/compat.py\", line 4, in <module>\r\n",
      "    from thinc.util import copy_array\r\n",
      "  File \"/Users/apple2015/Documents/MSc/SchoolStuff/NLP/Personal/Job Description Skill Analyzer/.venv/lib/python3.11/site-packages/thinc/__init__.py\", line 5, in <module>\r\n",
      "    from .config import registry\r\n",
      "  File \"/Users/apple2015/Documents/MSc/SchoolStuff/NLP/Personal/Job Description Skill Analyzer/.venv/lib/python3.11/site-packages/thinc/config.py\", line 5, in <module>\r\n",
      "    from .types import Decorator\r\n",
      "  File \"/Users/apple2015/Documents/MSc/SchoolStuff/NLP/Personal/Job Description Skill Analyzer/.venv/lib/python3.11/site-packages/thinc/types.py\", line 25, in <module>\r\n",
      "    from .compat import cupy, has_cupy\r\n",
      "  File \"/Users/apple2015/Documents/MSc/SchoolStuff/NLP/Personal/Job Description Skill Analyzer/.venv/lib/python3.11/site-packages/thinc/compat.py\", line 35, in <module>\r\n",
      "    import torch\r\n",
      "  File \"/Users/apple2015/Documents/MSc/SchoolStuff/NLP/Personal/Job Description Skill Analyzer/.venv/lib/python3.11/site-packages/torch/__init__.py\", line 1382, in <module>\r\n",
      "    from .functional import *  # noqa: F403\r\n",
      "  File \"/Users/apple2015/Documents/MSc/SchoolStuff/NLP/Personal/Job Description Skill Analyzer/.venv/lib/python3.11/site-packages/torch/functional.py\", line 7, in <module>\r\n",
      "    import torch.nn.functional as F\r\n",
      "  File \"/Users/apple2015/Documents/MSc/SchoolStuff/NLP/Personal/Job Description Skill Analyzer/.venv/lib/python3.11/site-packages/torch/nn/__init__.py\", line 1, in <module>\r\n",
      "    from .modules import *  # noqa: F403\r\n",
      "  File \"/Users/apple2015/Documents/MSc/SchoolStuff/NLP/Personal/Job Description Skill Analyzer/.venv/lib/python3.11/site-packages/torch/nn/modules/__init__.py\", line 35, in <module>\r\n",
      "    from .transformer import TransformerEncoder, TransformerDecoder, \\\r\n",
      "  File \"/Users/apple2015/Documents/MSc/SchoolStuff/NLP/Personal/Job Description Skill Analyzer/.venv/lib/python3.11/site-packages/torch/nn/modules/transformer.py\", line 20, in <module>\r\n",
      "    device: torch.device = torch.device(torch._C._get_default_device()),  # torch.device('cpu'),\r\n",
      "/Users/apple2015/Documents/MSc/SchoolStuff/NLP/Personal/Job Description Skill Analyzer/.venv/lib/python3.11/site-packages/torch/nn/modules/transformer.py:20: UserWarning: Failed to initialize NumPy: _ARRAY_API not found (Triggered internally at /Users/runner/work/pytorch/pytorch/pytorch/torch/csrc/utils/tensor_numpy.cpp:84.)\r\n",
      "  device: torch.device = torch.device(torch._C._get_default_device()),  # torch.device('cpu'),\r\n",
      "Collecting en-core-web-sm==3.8.0\r\n",
      "  Using cached https://github.com/explosion/spacy-models/releases/download/en_core_web_sm-3.8.0/en_core_web_sm-3.8.0-py3-none-any.whl (12.8 MB)\r\n",
      "\r\n",
      "\u001B[1m[\u001B[0m\u001B[34;49mnotice\u001B[0m\u001B[1;39;49m]\u001B[0m\u001B[39;49m A new release of pip is available: \u001B[0m\u001B[31;49m23.2.1\u001B[0m\u001B[39;49m -> \u001B[0m\u001B[32;49m25.0\u001B[0m\r\n",
      "\u001B[1m[\u001B[0m\u001B[34;49mnotice\u001B[0m\u001B[1;39;49m]\u001B[0m\u001B[39;49m To update, run: \u001B[0m\u001B[32;49mpip install --upgrade pip\u001B[0m\r\n",
      "\u001B[38;5;2m✔ Download and installation successful\u001B[0m\r\n",
      "You can now load the package via spacy.load('en_core_web_sm')\r\n"
     ]
    }
   ],
   "execution_count": 32
  },
  {
   "metadata": {
    "ExecuteTime": {
     "end_time": "2025-02-02T08:28:12.120516Z",
     "start_time": "2025-02-02T08:28:12.110110Z"
    }
   },
   "cell_type": "code",
   "source": [
    "# Import libraries\n",
    "import nltk\n",
    "import spacy\n",
    "from sumy.parsers.plaintext import PlaintextParser\n",
    "from sumy.nlp.tokenizers import Tokenizer\n",
    "from sumy.summarizers.lsa import LsaSummarizer\n",
    "from sumy.summarizers.text_rank import TextRankSummarizer\n",
    "from collections import Counter\n",
    "from rake_nltk import Rake\n",
    "import re\n",
    "print(f\"spaCy version: {spacy.__version__}\")\n"
   ],
   "id": "82ef050fded93d1c",
   "outputs": [
    {
     "name": "stdout",
     "output_type": "stream",
     "text": [
      "spaCy version: 3.8.4\n"
     ]
    }
   ],
   "execution_count": 33
  },
  {
   "metadata": {
    "ExecuteTime": {
     "end_time": "2025-02-02T08:28:12.215233Z",
     "start_time": "2025-02-02T08:28:12.204740Z"
    }
   },
   "cell_type": "code",
   "source": [
    "# Then test pydantic import\n",
    "import pydantic\n",
    "print(f\"pydantic version: {pydantic.__version__}\")"
   ],
   "id": "2933a7b20a3f5588",
   "outputs": [
    {
     "name": "stdout",
     "output_type": "stream",
     "text": [
      "pydantic version: 1.10.13\n"
     ]
    }
   ],
   "execution_count": 34
  },
  {
   "metadata": {},
   "cell_type": "markdown",
   "source": "## Import Libraries",
   "id": "d06c4167ed29c15d"
  },
  {
   "metadata": {
    "ExecuteTime": {
     "end_time": "2025-02-02T08:28:12.391746Z",
     "start_time": "2025-02-02T08:28:12.274921Z"
    }
   },
   "cell_type": "code",
   "source": [
    "import nltk\n",
    "import spacy\n",
    "from sumy.parsers.plaintext import PlaintextParser\n",
    "from sumy.nlp.tokenizers import Tokenizer\n",
    "from sumy.summarizers.lsa import LsaSummarizer\n",
    "from collections import Counter\n",
    "\n",
    "# Download NLTK data\n",
    "nltk.download('punkt')\n",
    "nltk.download('stopwords')"
   ],
   "id": "cc14ffe63cff0fbe",
   "outputs": [
    {
     "name": "stderr",
     "output_type": "stream",
     "text": [
      "[nltk_data] Error loading punkt: <urlopen error [SSL:\n",
      "[nltk_data]     CERTIFICATE_VERIFY_FAILED] certificate verify failed:\n",
      "[nltk_data]     unable to get local issuer certificate (_ssl.c:1002)>\n",
      "[nltk_data] Error loading stopwords: <urlopen error [SSL:\n",
      "[nltk_data]     CERTIFICATE_VERIFY_FAILED] certificate verify failed:\n",
      "[nltk_data]     unable to get local issuer certificate (_ssl.c:1002)>\n"
     ]
    },
    {
     "data": {
      "text/plain": [
       "False"
      ]
     },
     "execution_count": 35,
     "metadata": {},
     "output_type": "execute_result"
    }
   ],
   "execution_count": 35
  },
  {
   "metadata": {
    "ExecuteTime": {
     "end_time": "2025-02-02T08:28:12.462569Z",
     "start_time": "2025-02-02T08:28:12.454286Z"
    }
   },
   "cell_type": "code",
   "source": [
    "import spacy\n",
    "import pydantic\n",
    "print(\"spaCy version:\", spacy.__version__)\n",
    "print(\"pydantic version:\", pydantic.__version__)"
   ],
   "id": "c3432490594c0038",
   "outputs": [
    {
     "name": "stdout",
     "output_type": "stream",
     "text": [
      "spaCy version: 3.8.4\n",
      "pydantic version: 1.10.13\n"
     ]
    }
   ],
   "execution_count": 36
  },
  {
   "metadata": {},
   "cell_type": "markdown",
   "source": "## Text Preprocessing",
   "id": "ea6cda6c13203b04"
  },
  {
   "metadata": {
    "ExecuteTime": {
     "end_time": "2025-02-02T08:28:12.527885Z",
     "start_time": "2025-02-02T08:28:12.521936Z"
    }
   },
   "cell_type": "code",
   "source": [
    "# Text preprocessing\n",
    "def preprocess_text(text):\n",
    "    # Load spaCy model\n",
    "    nlp = spacy.load(\"en_core_web_sm\")\n",
    "\n",
    "    # Tokenize, remove stopwords, and lemmatize\n",
    "    doc = nlp(text)\n",
    "    tokens = [token.lemma_ for token in doc if not token.is_stop and not token.is_punct and token.is_alpha]\n",
    "\n",
    "    return tokens"
   ],
   "id": "6d7857fad60e6e5d",
   "outputs": [],
   "execution_count": 37
  },
  {
   "metadata": {},
   "cell_type": "markdown",
   "source": "## Keyword Extraction",
   "id": "d44c3ed85b793dc0"
  },
  {
   "metadata": {
    "ExecuteTime": {
     "end_time": "2025-02-02T08:28:12.626643Z",
     "start_time": "2025-02-02T08:28:12.611234Z"
    }
   },
   "cell_type": "code",
   "source": [
    "# Keyword extraction using RAKE\n",
    "def extract_keywords(text, top_n=10):\n",
    "    rake = Rake()\n",
    "    rake.extract_keywords_from_text(text)\n",
    "    ranked_phrases = rake.get_ranked_phrases()[:top_n]\n",
    "    return ranked_phrases\n"
   ],
   "id": "b6a7c9efc344fcdc",
   "outputs": [],
   "execution_count": 38
  },
  {
   "metadata": {
    "ExecuteTime": {
     "end_time": "2025-02-02T08:32:07.140357Z",
     "start_time": "2025-02-02T08:32:07.122613Z"
    }
   },
   "cell_type": "code",
   "source": [
    "from main import nlp\n",
    "\n",
    "\n",
    "def extract_entities(text):\n",
    "    doc = nlp(text)\n",
    "    entities = {\n",
    "        \"ORG\": [],  # Organizations (e.g., Spencer Academies Trust)\n",
    "        \"GPE\": [],  # Geographical locations (e.g., Nottingham, United Kingdom)\n",
    "        \"DATE\": [],  # Dates (e.g., 9th June 2025)\n",
    "        \"MONEY\": [],  # Monetary values (e.g., £425 per week)\n",
    "    }\n",
    "    for ent in doc.ents:\n",
    "        if ent.label_ in entities:\n",
    "            entities[ent.label_].append(ent.text)\n",
    "    return entities"
   ],
   "id": "5e33719050cc5a00",
   "outputs": [
    {
     "ename": "SyntaxError",
     "evalue": "invalid syntax (main.py, line 6)",
     "output_type": "error",
     "traceback": [
      "Traceback \u001B[0;36m(most recent call last)\u001B[0m:\n",
      "\u001B[0m  File \u001B[1;32m~/Documents/MSc/SchoolStuff/NLP/Personal/Job Description Skill Analyzer/.venv/lib/python3.11/site-packages/IPython/core/interactiveshell.py:3577\u001B[0m in \u001B[1;35mrun_code\u001B[0m\n    exec(code_obj, self.user_global_ns, self.user_ns)\u001B[0m\n",
      "\u001B[0;36m  Cell \u001B[0;32mIn[53], line 1\u001B[0;36m\n\u001B[0;31m    from main import nlp\u001B[0;36m\n",
      "\u001B[0;36m  File \u001B[0;32m~/Documents/MSc/SchoolStuff/NLP/Personal/Job Description (JD) Summarizer/main.py:6\u001B[0;36m\u001B[0m\n\u001B[0;31m    !pip install nltk spacy sumy\u001B[0m\n\u001B[0m    ^\u001B[0m\n\u001B[0;31mSyntaxError\u001B[0m\u001B[0;31m:\u001B[0m invalid syntax\n"
     ]
    }
   ],
   "execution_count": 53
  },
  {
   "metadata": {},
   "cell_type": "markdown",
   "source": "## Summarization",
   "id": "464e35c6849eece0"
  },
  {
   "metadata": {
    "ExecuteTime": {
     "end_time": "2025-02-02T08:28:12.742757Z",
     "start_time": "2025-02-02T08:28:12.730110Z"
    }
   },
   "cell_type": "code",
   "source": [
    "def summarize_text(text):\n",
    "    parser = PlaintextParser.from_string(text, Tokenizer(\"english\"))\n",
    "    summarizer = TextRankSummarizer()\n",
    "    # Adjust sentence count based on text length\n",
    "    sentences_count = max(2, min(5, len(text.split(\".\")) // 10))\n",
    "    summary = summarizer(parser.document, sentences_count)\n",
    "    return ' '.join([str(sentence) for sentence in summary])"
   ],
   "id": "a2030b7a747e1935",
   "outputs": [],
   "execution_count": 40
  },
  {
   "metadata": {},
   "cell_type": "markdown",
   "source": "## Putting It All Together",
   "id": "3d1d70315e280530"
  },
  {
   "metadata": {
    "ExecuteTime": {
     "end_time": "2025-02-02T08:31:26.051646Z",
     "start_time": "2025-02-02T08:31:26.014339Z"
    }
   },
   "cell_type": "code",
   "source": [
    "# Putting it all together\n",
    "def summarize_job_description(jd_text):\n",
    "    # Preprocess the text\n",
    "    tokens = preprocess_text(jd_text)\n",
    "\n",
    "    # Extract keywords\n",
    "    keywords = extract_keywords(jd_text)\n",
    "\n",
    "    # Extract keywords\n",
    "    entities = extract_entities(jd_text)\n",
    "\n",
    "    # Summarize the text\n",
    "    summary = summarize_text(jd_text)\n",
    "\n",
    "    return {\n",
    "        \"keywords\": keywords,\n",
    "        \"entities\": entities,\n",
    "        \"summary\": summary\n",
    "    }"
   ],
   "id": "65e172b1cba55620",
   "outputs": [],
   "execution_count": 51
  },
  {
   "metadata": {},
   "cell_type": "markdown",
   "source": "## Example Usage",
   "id": "34e8afb1ab1a4683"
  },
  {
   "metadata": {
    "ExecuteTime": {
     "end_time": "2025-02-02T08:28:14.432064Z",
     "start_time": "2025-02-02T08:28:12.869360Z"
    }
   },
   "cell_type": "code",
   "source": [
    "job_description = \"\"\"\n",
    "We are looking for a Python Developer to join our team. The ideal candidate should have experience with Python, Django, and Flask.\n",
    "Responsibilities include developing and maintaining web applications, writing clean and scalable code, and collaborating with cross-functional teams.\n",
    "The candidate should have a strong understanding of software development principles and be able to work in an agile environment.\n",
    "Experience with REST APIs, databases, and version control systems like Git is a plus.\n",
    "\"\"\"\n",
    "\n",
    "result = summarize_job_description(job_description)\n",
    "print(\"Keywords:\", result[\"keywords\"])\n",
    "print(\"Summary:\", result[\"summary\"])"
   ],
   "id": "1cac6ffd8e99af9a",
   "outputs": [
    {
     "name": "stdout",
     "output_type": "stream",
     "text": [
      "Keywords: ['version control systems like git', 'software development principles', 'responsibilities include developing', 'maintaining web applications', 'writing clean', 'strong understanding', 'scalable code', 'rest apis', 'functional teams', 'agile environment']\n",
      "Summary: Responsibilities include developing and maintaining web applications, writing clean and scalable code, and collaborating with cross-functional teams. The candidate should have a strong understanding of software development principles and be able to work in an agile environment.\n"
     ]
    }
   ],
   "execution_count": 42
  },
  {
   "metadata": {
    "ExecuteTime": {
     "end_time": "2025-02-02T08:31:38.022026Z",
     "start_time": "2025-02-02T08:31:35.534511Z"
    }
   },
   "cell_type": "code",
   "source": [
    "job_description = \"\"\"\n",
    "UniHub UniHub Dashboard James Notifications0 Spencer Academies Trust Nottingham, East Midlands, United Kingdom 1 job Teaching Intern United Kingdom £425 per week for full attendance & participation Full-time, Temporary Teaching Internship Programme takes place in Spencer Academies Trust schools across Nottinghamshire and Derbyshire. You will gain an insight into the life of a teacher and participate in training sessions. Applications close on 9 Feb 2025 Job details Teaching Internship Programme takes place in Spencer Academies Trust schools across Nottinghamshire and Derbyshire. You will gain an insight into the life of a teacher and participate in training sessions. Subjects: Maths Physics Chemistry Computing MFL. On the programme you will gain in-school experience, learn about the life of a teacher, support pupils in the classroom, shadow experienced teachers, discover the routes into teaching and participate in teaching. Eligibility You must be an undergraduate or master’s student, studying in a UK university, who is considering a career in teaching. The programme lasts for 3 weeks, 9th to 27th June 2025. You'll receive personalised post-programme support to assist you with getting into a career in teaching. More info Job types Graduate job Internship Expected commencement 9th June 2024 Posted 7 Nov 2024 Applications close on 9 Feb 2025 More jobs Independent Advisory Group – Volunteer – Derbyshire Derbyshire Constabulary Derbyshire, England, United Kingdom Youth Work Volunteer Safe and Sound Group First Floor East Mill, Darley Abbey Mills, Darley Abbey., Derby, Derbyshire, England, DE22 1DZ, United Kingdom Awareness Volunteer Safe and Sound Group First Floor East Mill, Darley Abbey Mills, Darley Abbey, Derby, Derbyshire, England, DE22 1DZ, United Kingdom\n",
    "\"\"\"\n",
    "\n",
    "result = summarize_job_description(job_description)\n",
    "print(\"Keywords:\", result[\"keywords\"])\n",
    "print(\"Summary:\", result[\"summary\"])"
   ],
   "id": "688718be7b120c71",
   "outputs": [
    {
     "ename": "NameError",
     "evalue": "name 'nlp' is not defined",
     "output_type": "error",
     "traceback": [
      "\u001B[0;31m---------------------------------------------------------------------------\u001B[0m",
      "\u001B[0;31mNameError\u001B[0m                                 Traceback (most recent call last)",
      "Cell \u001B[0;32mIn[52], line 5\u001B[0m\n\u001B[1;32m      1\u001B[0m job_description \u001B[38;5;241m=\u001B[39m \u001B[38;5;124m\"\"\"\u001B[39m\n\u001B[1;32m      2\u001B[0m \u001B[38;5;124mUniHub UniHub Dashboard James Notifications0 Spencer Academies Trust Nottingham, East Midlands, United Kingdom 1 job Teaching Intern United Kingdom £425 per week for full attendance & participation Full-time, Temporary Teaching Internship Programme takes place in Spencer Academies Trust schools across Nottinghamshire and Derbyshire. You will gain an insight into the life of a teacher and participate in training sessions. Applications close on 9 Feb 2025 Job details Teaching Internship Programme takes place in Spencer Academies Trust schools across Nottinghamshire and Derbyshire. You will gain an insight into the life of a teacher and participate in training sessions. Subjects: Maths Physics Chemistry Computing MFL. On the programme you will gain in-school experience, learn about the life of a teacher, support pupils in the classroom, shadow experienced teachers, discover the routes into teaching and participate in teaching. Eligibility You must be an undergraduate or master’s student, studying in a UK university, who is considering a career in teaching. The programme lasts for 3 weeks, 9th to 27th June 2025. You\u001B[39m\u001B[38;5;124m'\u001B[39m\u001B[38;5;124mll receive personalised post-programme support to assist you with getting into a career in teaching. More info Job types Graduate job Internship Expected commencement 9th June 2024 Posted 7 Nov 2024 Applications close on 9 Feb 2025 More jobs Independent Advisory Group – Volunteer – Derbyshire Derbyshire Constabulary Derbyshire, England, United Kingdom Youth Work Volunteer Safe and Sound Group First Floor East Mill, Darley Abbey Mills, Darley Abbey., Derby, Derbyshire, England, DE22 1DZ, United Kingdom Awareness Volunteer Safe and Sound Group First Floor East Mill, Darley Abbey Mills, Darley Abbey, Derby, Derbyshire, England, DE22 1DZ, United Kingdom\u001B[39m\n\u001B[1;32m      3\u001B[0m \u001B[38;5;124m\"\"\"\u001B[39m\n\u001B[0;32m----> 5\u001B[0m result \u001B[38;5;241m=\u001B[39m \u001B[43msummarize_job_description\u001B[49m\u001B[43m(\u001B[49m\u001B[43mjob_description\u001B[49m\u001B[43m)\u001B[49m\n\u001B[1;32m      6\u001B[0m \u001B[38;5;28mprint\u001B[39m(\u001B[38;5;124m\"\u001B[39m\u001B[38;5;124mKeywords:\u001B[39m\u001B[38;5;124m\"\u001B[39m, result[\u001B[38;5;124m\"\u001B[39m\u001B[38;5;124mkeywords\u001B[39m\u001B[38;5;124m\"\u001B[39m])\n\u001B[1;32m      7\u001B[0m \u001B[38;5;28mprint\u001B[39m(\u001B[38;5;124m\"\u001B[39m\u001B[38;5;124mSummary:\u001B[39m\u001B[38;5;124m\"\u001B[39m, result[\u001B[38;5;124m\"\u001B[39m\u001B[38;5;124msummary\u001B[39m\u001B[38;5;124m\"\u001B[39m])\n",
      "Cell \u001B[0;32mIn[51], line 10\u001B[0m, in \u001B[0;36msummarize_job_description\u001B[0;34m(jd_text)\u001B[0m\n\u001B[1;32m      7\u001B[0m keywords \u001B[38;5;241m=\u001B[39m extract_keywords(jd_text)\n\u001B[1;32m      9\u001B[0m \u001B[38;5;66;03m# Extract keywords\u001B[39;00m\n\u001B[0;32m---> 10\u001B[0m entities \u001B[38;5;241m=\u001B[39m \u001B[43mextract_entities\u001B[49m\u001B[43m(\u001B[49m\u001B[43mjd_text\u001B[49m\u001B[43m)\u001B[49m\n\u001B[1;32m     12\u001B[0m \u001B[38;5;66;03m# Summarize the text\u001B[39;00m\n\u001B[1;32m     13\u001B[0m summary \u001B[38;5;241m=\u001B[39m summarize_text(jd_text)\n",
      "Cell \u001B[0;32mIn[39], line 2\u001B[0m, in \u001B[0;36mextract_entities\u001B[0;34m(text)\u001B[0m\n\u001B[1;32m      1\u001B[0m \u001B[38;5;28;01mdef\u001B[39;00m \u001B[38;5;21mextract_entities\u001B[39m(text):\n\u001B[0;32m----> 2\u001B[0m     doc \u001B[38;5;241m=\u001B[39m \u001B[43mnlp\u001B[49m(text)\n\u001B[1;32m      3\u001B[0m     entities \u001B[38;5;241m=\u001B[39m {\n\u001B[1;32m      4\u001B[0m         \u001B[38;5;124m\"\u001B[39m\u001B[38;5;124mORG\u001B[39m\u001B[38;5;124m\"\u001B[39m: [],  \u001B[38;5;66;03m# Organizations (e.g., Spencer Academies Trust)\u001B[39;00m\n\u001B[1;32m      5\u001B[0m         \u001B[38;5;124m\"\u001B[39m\u001B[38;5;124mGPE\u001B[39m\u001B[38;5;124m\"\u001B[39m: [],  \u001B[38;5;66;03m# Geographical locations (e.g., Nottingham, United Kingdom)\u001B[39;00m\n\u001B[1;32m      6\u001B[0m         \u001B[38;5;124m\"\u001B[39m\u001B[38;5;124mDATE\u001B[39m\u001B[38;5;124m\"\u001B[39m: [],  \u001B[38;5;66;03m# Dates (e.g., 9th June 2025)\u001B[39;00m\n\u001B[1;32m      7\u001B[0m         \u001B[38;5;124m\"\u001B[39m\u001B[38;5;124mMONEY\u001B[39m\u001B[38;5;124m\"\u001B[39m: [],  \u001B[38;5;66;03m# Monetary values (e.g., £425 per week)\u001B[39;00m\n\u001B[1;32m      8\u001B[0m     }\n\u001B[1;32m      9\u001B[0m     \u001B[38;5;28;01mfor\u001B[39;00m ent \u001B[38;5;129;01min\u001B[39;00m doc\u001B[38;5;241m.\u001B[39ments:\n",
      "\u001B[0;31mNameError\u001B[0m: name 'nlp' is not defined"
     ]
    }
   ],
   "execution_count": 52
  },
  {
   "metadata": {
    "ExecuteTime": {
     "end_time": "2025-02-02T08:28:20.448601Z",
     "start_time": "2025-02-02T08:28:18.916980Z"
    }
   },
   "cell_type": "code",
   "source": [
    "job_description = \"\"\"\n",
    "Researcher The Lullaby Trust Remote £10,000 per year Part-time (2 days per week (can be worked flexibly).) Contract (Fixed term for 6 months) Actively Interviewing This is a preview of your upcoming ad, it's not yet visible to candidates. The ad will be posted on 04 February 2025. Quick Apply Save Job description The main function of this role will be: Review The Lullaby Trust’s current Evidence Base. Create a revised Evidence Base including the production of plain language versions for each topic. Work with our designer to create final accessible PDF copies for each topic. Develop a standard operating procedure for updating the Evidence Base in future. Job Description Review The Lullaby Trust’s current Evidence Base. The Lullaby Trust’s guidance is constantly evolving as new evidence emerges on preventing unexpected infant deaths. However, much of our guidance, such as our Back to Sleep messaging, is based on an established and agreed body of evidence. The post holder will be required to undertake a narrative systematic review of the literature to create an updated Evidence Base for each aspect of The Lullaby Trust’s guidance, referencing established research and any relevant updated evidence. Ideally, papers would need to be readily available via open access to assist The Lullaby Trust staff with supporting research enquiries. It is important to note that whilst some of our guidance is based on direct evidence, some is indirect i.e. advising against using certain products due to association with other evidence-based guidance; therefore, the post holder should have a sound understanding of SIDS and unexpected infant death research to be able to demonstrate this link concisely. Current topics covered by our guidance and evidence include: Sleeping position Clear cot Room temperature Bedding Twins and multiples Smoking Alcohol and drug use Breastfeeding Airways Co-sleeping/bedsharing Products; slings, dummies, baby monitors Car seats Infection and immunisations Premature babies Poor antenatal care Swaddling Young parents Normal baby sleep Impact of deprivation Create a revised Evidence Base including the production of plain language versions for each topic. The Lullaby Trust’s current Evidence Base is an extensive document. This project aims to make the Evidence Base more accessible and easier to update. We envisage that each topic currently covered in the Evidence Base will have a fully referenced version and a plain language version to enable them to be understood and used by a variety of service users, including health professionals and parents or carers. On completion, the Evidence Base and its derivatives will remain the sole property of The Lullaby Trust, however the post holder will be credited and there is scope for the post holder to publish an academic paper based on the project. Work with our designer to create final accessible PDF copies for each topic. The post holder will need to support in the design of easily accessible PDF versions of the Evidence Base, including any relevant infographics and links to referenced research. Each document will need to align with the guidance available to service users via our website and in other published resources. It may be possible that the review provides insights into potential changes to the current guidance available and, where this is indicated, the post holder will work with our Scientific Advisory Group to provide the evidence for those discussions. Develop a standard operating procedure for updating the Evidence Base in future. As a dynamic organisation that adapts our guidance to the most up-to-date research. Our current process involves our Scientific Advisory Group assessing new research and, if appropriate, amending our guidance or adding research to an established research library. However, the format of the current Evidence Base document creates a challenge in adding new references and evidence. The revised Evidence Base documents created by this project will need to be easily edited and updated. The post holder will be required to develop a standard operating procedure for updating the documents as part of our current Scientific Advisory Group processes. Person Specification Essential: A good understanding of the research around SIDS and unexpected infant death. Experience of literature reviews, systematic reviews, critical appraisal, and evidence synthesis. Good written skills, including the ability to write in an accessible way. Attachment to a Further Education Institution. Access to own laptop/computer and necessary software. Ability to organise own time to meet agreed project milestones. To Apply: Please send a CV and a proposed project plan, including proposed methodology and a Gantt chart with intended timescales and milestones. References may be requested from successful applicants. Post holder must be available for regular online meetings to discuss progress and at least one in-person meeting with our Scientific Advisory Group in the London office. Application Instructions To Apply: Please send a CV and a proposed project plan, including proposed methodology and a Gantt chart with intended timescales and milestones. References may be requested from successful applicants.\n",
    "\"\"\"\n",
    "\n",
    "result = summarize_job_description(job_description)\n",
    "print(\"Keywords:\", result[\"keywords\"])\n",
    "print(\"Summary:\", result[\"summary\"])"
   ],
   "id": "6743a8efe98f17e7",
   "outputs": [
    {
     "name": "stdout",
     "output_type": "stream",
     "text": [
      "Keywords: ['immunisations premature babies poor antenatal care swaddling young parents normal baby sleep impact', 'sleeping position clear cot room temperature bedding twins', 'baby monitors car seats infection', 'scientific advisory group assessing new research', 'drug use breastfeeding airways co', 'lullaby trust remote £ 10', 'current scientific advisory group processes', 'create final accessible pdf copies', 'create final accessible pdf copies', 'quick apply save job description']\n",
      "Summary: The post holder will be required to undertake a narrative systematic review of the literature to create an updated Evidence Base for each aspect of The Lullaby Trust’s guidance, referencing established research and any relevant updated evidence. It is important to note that whilst some of our guidance is based on direct evidence, some is indirect i.e. advising against using certain products due to association with other evidence-based guidance; therefore, the post holder should have a sound understanding of SIDS and unexpected infant death research to be able to demonstrate this link concisely. On completion, the Evidence Base and its derivatives will remain the sole property of The Lullaby Trust, however the post holder will be credited and there is scope for the post holder to publish an academic paper based on the project. It may be possible that the review provides insights into potential changes to the current guidance available and, where this is indicated, the post holder will work with our Scientific Advisory Group to provide the evidence for those discussions.\n"
     ]
    }
   ],
   "execution_count": 44
  },
  {
   "metadata": {
    "ExecuteTime": {
     "end_time": "2025-02-02T08:28:20.477706Z",
     "start_time": "2025-02-02T08:28:20.468126Z"
    }
   },
   "cell_type": "code",
   "source": [
    "def format_summary(job_title, location, salary, responsibilities, eligibility, benefits):\n",
    "    summary = f\"\"\"\n",
    "**Job Title:** {job_title}\n",
    "**Location:** {location}\n",
    "**Salary:** {salary}\n",
    "\n",
    "**Responsibilities:**\n",
    "- {responsibilities[0]}\n",
    "- {responsibilities[1]}\n",
    "- {responsibilities[2]}\n",
    "\n",
    "**Eligibility:**\n",
    "- {eligibility}\n",
    "\n",
    "**Benefits:**\n",
    "- {benefits}\n",
    "\"\"\"\n",
    "    return summary"
   ],
   "id": "b5d699fde62a4d0a",
   "outputs": [],
   "execution_count": 45
  },
  {
   "metadata": {
    "ExecuteTime": {
     "end_time": "2025-02-02T08:28:20.556771Z",
     "start_time": "2025-02-02T08:28:20.538427Z"
    }
   },
   "cell_type": "code",
   "source": [
    "import re\n",
    "\n",
    "def clean_text(text):\n",
    "    # Remove irrelevant text (e.g., \"UniHub UniHub Dashboard James Notifications0\")\n",
    "    text = re.sub(r\"UniHub.*?Notifications\\d+\", \"\", text)\n",
    "    # Remove extra spaces and newlines\n",
    "    text = re.sub(r\"\\s+\", \" \", text).strip()\n",
    "    return text"
   ],
   "id": "d7c7793e7359de38",
   "outputs": [],
   "execution_count": 46
  },
  {
   "metadata": {
    "ExecuteTime": {
     "end_time": "2025-02-02T08:28:54.035179Z",
     "start_time": "2025-02-02T08:28:20.593288Z"
    }
   },
   "cell_type": "code",
   "source": [
    "def main():\n",
    "    print(\"Job Description Summarizer\")\n",
    "    jd_text = input(\"Paste the job description here:\\n\")\n",
    "    result = summarize_job_description(jd_text)\n",
    "    print(\"\\nKeywords:\", result[\"keywords\"])\n",
    "    print(\"\\nSummary:\", result[\"summary\"])\n",
    "\n",
    "if __name__ == \"__main__\":\n",
    "    main()"
   ],
   "id": "9b6d7990aff4cc90",
   "outputs": [
    {
     "name": "stdout",
     "output_type": "stream",
     "text": [
      "Job Description Summarizer\n",
      "\n",
      "Keywords: ['info job types graduate job internship expected commencement 9th june 2024 posted 7 nov 2024 applications close', 'united kingdom 1 job teaching intern united kingdom £ 425 per week', 'jobs independent advisory group – volunteer – derbyshire derbyshire constabulary derbyshire', '9 feb 2025 job details teaching internship programme takes place', 'unihub unihub dashboard james notifications0 spencer academies trust nottingham', 'temporary teaching internship programme takes place', 'united kingdom youth work volunteer safe', 'spencer academies trust schools across nottinghamshire', 'spencer academies trust schools across nottinghamshire', 'sound group first floor east mill']\n",
      "\n",
      "Summary: On the programme you will gain in-school experience, learn about the life of a teacher, support pupils in the classroom, shadow experienced teachers, discover the routes into teaching and participate in teaching. More info Job types Graduate job Internship Expected commencement 9th June 2024 Posted 7 Nov 2024 Applications close on 9 Feb 2025 More jobs Independent Advisory Group – Volunteer – Derbyshire Derbyshire Constabulary Derbyshire, England, United Kingdom Youth Work Volunteer Safe and Sound Group First Floor East Mill, Darley Abbey Mills, Darley Abbey., Derby, Derbyshire, England, DE22 1DZ, United Kingdom Awareness Volunteer Safe and Sound Group First Floor East Mill, Darley Abbey Mills, Darley Abbey, Derby, Derbyshire, England, DE22 1DZ, United Kingdom\n"
     ]
    }
   ],
   "execution_count": 47
  },
  {
   "metadata": {
    "ExecuteTime": {
     "end_time": "2025-02-02T08:28:54.070705Z",
     "start_time": "2025-02-02T08:28:54.060290Z"
    }
   },
   "cell_type": "code",
   "source": [
    "def save_to_file(result, filename=\"summary.txt\"):\n",
    "    with open(filename, \"w\") as f:\n",
    "        f.write(\"Keywords:\\n\")\n",
    "        f.write(\"\\n\".join(result[\"keywords\"]) + \"\\n\\n\")\n",
    "        f.write(\"Summary:\\n\")\n",
    "        f.write(result[\"summary\"])\n",
    "    print(f\"Summary saved to {filename}\")"
   ],
   "id": "71e75b8836821003",
   "outputs": [],
   "execution_count": 48
  },
  {
   "metadata": {},
   "cell_type": "markdown",
   "source": "## Support for Multiple Job Descriptions",
   "id": "721a2840ae22704c"
  },
  {
   "metadata": {
    "ExecuteTime": {
     "end_time": "2025-02-02T08:28:54.174432Z",
     "start_time": "2025-02-02T08:28:54.157808Z"
    }
   },
   "cell_type": "code",
   "source": [
    "def process_multiple_jds(jd_list):\n",
    "    summaries = []\n",
    "    for jd in jd_list:\n",
    "        result = summarize_job_description(jd)\n",
    "        summaries.append(result)\n",
    "    return summaries"
   ],
   "id": "58a5ed62e3615d56",
   "outputs": [],
   "execution_count": 49
  },
  {
   "metadata": {
    "ExecuteTime": {
     "end_time": "2025-02-02T08:28:55.184062Z",
     "start_time": "2025-02-02T08:28:54.183717Z"
    }
   },
   "cell_type": "code",
   "source": [
    "job_description = \"\"\"\n",
    "UniHub UniHub Dashboard James Notifications0 Spencer Academies Trust Nottingham, East Midlands, United Kingdom 1 job Teaching Intern United Kingdom £425 per week for full attendance & participation Full-time, Temporary Teaching Internship Programme takes place in Spencer Academies Trust schools across Nottinghamshire and Derbyshire. You will gain an insight into the life of a teacher and participate in training sessions. Applications close on 9 Feb 2025 Job details Teaching Internship Programme takes place in Spencer Academies Trust schools across Nottinghamshire and Derbyshire. You will gain an insight into the life of a teacher and participate in training sessions. Subjects: Maths Physics Chemistry Computing MFL. On the programme you will gain in-school experience, learn about the life of a teacher, support pupils in the classroom, shadow experienced teachers, discover the routes into teaching and participate in teaching. Eligibility You must be an undergraduate or master’s student, studying in a UK university, who is considering a career in teaching. The programme lasts for 3 weeks, 9th to 27th June 2025. You'll receive personalised post-programme support to assist you with getting into a career in teaching. More info Job types Graduate job Internship Expected commencement 9th June 2024 Posted 7 Nov 2024 Applications close on 9 Feb 2025 More jobs Independent Advisory Group – Volunteer – Derbyshire Derbyshire Constabulary Derbyshire, England, United Kingdom Youth Work Volunteer Safe and Sound Group First Floor East Mill, Darley Abbey Mills, Darley Abbey., Derby, Derbyshire, England, DE22 1DZ, United Kingdom Awareness Volunteer Safe and Sound Group First Floor East Mill, Darley Abbey Mills, Darley Abbey, Derby, Derbyshire, England, DE22 1DZ, United Kingdom\n",
    "\"\"\"\n",
    "\n",
    "result = summarize_job_description(job_description)\n",
    "print(\"Keywords:\", result[\"keywords\"])\n",
    "print(\"Summary:\", result[\"summary\"])"
   ],
   "id": "7cc42f7dd83db54c",
   "outputs": [
    {
     "name": "stdout",
     "output_type": "stream",
     "text": [
      "Keywords: ['info job types graduate job internship expected commencement 9th june 2024 posted 7 nov 2024 applications close', 'united kingdom 1 job teaching intern united kingdom £ 425 per week', 'jobs independent advisory group – volunteer – derbyshire derbyshire constabulary derbyshire', '9 feb 2025 job details teaching internship programme takes place', 'unihub unihub dashboard james notifications0 spencer academies trust nottingham', 'temporary teaching internship programme takes place', 'united kingdom youth work volunteer safe', 'spencer academies trust schools across nottinghamshire', 'spencer academies trust schools across nottinghamshire', 'sound group first floor east mill']\n",
      "Summary: On the programme you will gain in-school experience, learn about the life of a teacher, support pupils in the classroom, shadow experienced teachers, discover the routes into teaching and participate in teaching. More info Job types Graduate job Internship Expected commencement 9th June 2024 Posted 7 Nov 2024 Applications close on 9 Feb 2025 More jobs Independent Advisory Group – Volunteer – Derbyshire Derbyshire Constabulary Derbyshire, England, United Kingdom Youth Work Volunteer Safe and Sound Group First Floor East Mill, Darley Abbey Mills, Darley Abbey., Derby, Derbyshire, England, DE22 1DZ, United Kingdom Awareness Volunteer Safe and Sound Group First Floor East Mill, Darley Abbey Mills, Darley Abbey, Derby, Derbyshire, England, DE22 1DZ, United Kingdom\n"
     ]
    }
   ],
   "execution_count": 50
  }
 ],
 "metadata": {
  "kernelspec": {
   "display_name": "Python 3",
   "language": "python",
   "name": "python3"
  },
  "language_info": {
   "codemirror_mode": {
    "name": "ipython",
    "version": 2
   },
   "file_extension": ".py",
   "mimetype": "text/x-python",
   "name": "python",
   "nbconvert_exporter": "python",
   "pygments_lexer": "ipython2",
   "version": "2.7.6"
  }
 },
 "nbformat": 4,
 "nbformat_minor": 5
}
